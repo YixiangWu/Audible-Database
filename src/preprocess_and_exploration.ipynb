{
 "cells": [
  {
   "cell_type": "code",
   "execution_count": 1,
   "metadata": {
    "ExecuteTime": {
     "end_time": "2024-03-26T19:56:12.379221Z",
     "start_time": "2024-03-26T19:56:12.052442Z"
    }
   },
   "outputs": [],
   "source": [
    "import matplotlib.pyplot as plt\n",
    "import numpy as np\n",
    "import pandas as pd\n",
    "import re\n",
    "import seaborn as sns\n",
    "\n",
    "from datetime import timedelta\n",
    "from scipy.stats import ttest_ind\n",
    "\n",
    "from preprocess_and_exploration import data_folder"
   ]
  },
  {
   "cell_type": "markdown",
   "metadata": {},
   "source": [
    "# Data Preprocess"
   ]
  },
  {
   "cell_type": "markdown",
   "metadata": {},
   "source": [
    "## Load Dataset"
   ]
  },
  {
   "cell_type": "code",
   "execution_count": 2,
   "metadata": {
    "ExecuteTime": {
     "end_time": "2024-03-26T19:56:12.526492Z",
     "start_time": "2024-03-26T19:56:12.376115Z"
    }
   },
   "outputs": [
    {
     "data": {
      "text/html": [
       "<div>\n",
       "<style scoped>\n",
       "    .dataframe tbody tr th:only-of-type {\n",
       "        vertical-align: middle;\n",
       "    }\n",
       "\n",
       "    .dataframe tbody tr th {\n",
       "        vertical-align: top;\n",
       "    }\n",
       "\n",
       "    .dataframe thead th {\n",
       "        text-align: right;\n",
       "    }\n",
       "</style>\n",
       "<table border=\"1\" class=\"dataframe\">\n",
       "  <thead>\n",
       "    <tr style=\"text-align: right;\">\n",
       "      <th></th>\n",
       "      <th>name</th>\n",
       "      <th>author</th>\n",
       "      <th>narrator</th>\n",
       "      <th>time</th>\n",
       "      <th>releasedate</th>\n",
       "      <th>language</th>\n",
       "      <th>stars</th>\n",
       "      <th>price</th>\n",
       "    </tr>\n",
       "  </thead>\n",
       "  <tbody>\n",
       "    <tr>\n",
       "      <th>0</th>\n",
       "      <td>Geronimo Stilton #11 &amp; #12</td>\n",
       "      <td>Writtenby:GeronimoStilton</td>\n",
       "      <td>Narratedby:BillLobely</td>\n",
       "      <td>2 hrs and 20 mins</td>\n",
       "      <td>04-08-08</td>\n",
       "      <td>English</td>\n",
       "      <td>5 out of 5 stars34 ratings</td>\n",
       "      <td>468.00</td>\n",
       "    </tr>\n",
       "    <tr>\n",
       "      <th>1</th>\n",
       "      <td>The Burning Maze</td>\n",
       "      <td>Writtenby:RickRiordan</td>\n",
       "      <td>Narratedby:RobbieDaymond</td>\n",
       "      <td>13 hrs and 8 mins</td>\n",
       "      <td>01-05-18</td>\n",
       "      <td>English</td>\n",
       "      <td>4.5 out of 5 stars41 ratings</td>\n",
       "      <td>820.00</td>\n",
       "    </tr>\n",
       "    <tr>\n",
       "      <th>2</th>\n",
       "      <td>The Deep End</td>\n",
       "      <td>Writtenby:JeffKinney</td>\n",
       "      <td>Narratedby:DanRussell</td>\n",
       "      <td>2 hrs and 3 mins</td>\n",
       "      <td>06-11-20</td>\n",
       "      <td>English</td>\n",
       "      <td>4.5 out of 5 stars38 ratings</td>\n",
       "      <td>410.00</td>\n",
       "    </tr>\n",
       "    <tr>\n",
       "      <th>3</th>\n",
       "      <td>Daughter of the Deep</td>\n",
       "      <td>Writtenby:RickRiordan</td>\n",
       "      <td>Narratedby:SoneelaNankani</td>\n",
       "      <td>11 hrs and 16 mins</td>\n",
       "      <td>05-10-21</td>\n",
       "      <td>English</td>\n",
       "      <td>4.5 out of 5 stars12 ratings</td>\n",
       "      <td>615.00</td>\n",
       "    </tr>\n",
       "    <tr>\n",
       "      <th>4</th>\n",
       "      <td>The Lightning Thief: Percy Jackson, Book 1</td>\n",
       "      <td>Writtenby:RickRiordan</td>\n",
       "      <td>Narratedby:JesseBernstein</td>\n",
       "      <td>10 hrs</td>\n",
       "      <td>13-01-10</td>\n",
       "      <td>English</td>\n",
       "      <td>4.5 out of 5 stars181 ratings</td>\n",
       "      <td>820.00</td>\n",
       "    </tr>\n",
       "  </tbody>\n",
       "</table>\n",
       "</div>"
      ],
      "text/plain": [
       "                                         name                     author  \\\n",
       "0                  Geronimo Stilton #11 & #12  Writtenby:GeronimoStilton   \n",
       "1                            The Burning Maze      Writtenby:RickRiordan   \n",
       "2                                The Deep End       Writtenby:JeffKinney   \n",
       "3                        Daughter of the Deep      Writtenby:RickRiordan   \n",
       "4  The Lightning Thief: Percy Jackson, Book 1      Writtenby:RickRiordan   \n",
       "\n",
       "                    narrator                time releasedate language  \\\n",
       "0      Narratedby:BillLobely   2 hrs and 20 mins    04-08-08  English   \n",
       "1   Narratedby:RobbieDaymond   13 hrs and 8 mins    01-05-18  English   \n",
       "2      Narratedby:DanRussell    2 hrs and 3 mins    06-11-20  English   \n",
       "3  Narratedby:SoneelaNankani  11 hrs and 16 mins    05-10-21  English   \n",
       "4  Narratedby:JesseBernstein              10 hrs    13-01-10  English   \n",
       "\n",
       "                           stars   price  \n",
       "0     5 out of 5 stars34 ratings  468.00  \n",
       "1   4.5 out of 5 stars41 ratings  820.00  \n",
       "2   4.5 out of 5 stars38 ratings  410.00  \n",
       "3   4.5 out of 5 stars12 ratings  615.00  \n",
       "4  4.5 out of 5 stars181 ratings  820.00  "
      ]
     },
     "execution_count": 2,
     "metadata": {},
     "output_type": "execute_result"
    }
   ],
   "source": [
    "audible_data = pd.read_csv(data_folder + '/audible_uncleaned.csv')\n",
    "audible_data.head()"
   ]
  },
  {
   "cell_type": "code",
   "execution_count": 3,
   "metadata": {},
   "outputs": [
    {
     "data": {
      "text/html": [
       "<div>\n",
       "<style scoped>\n",
       "    .dataframe tbody tr th:only-of-type {\n",
       "        vertical-align: middle;\n",
       "    }\n",
       "\n",
       "    .dataframe tbody tr th {\n",
       "        vertical-align: top;\n",
       "    }\n",
       "\n",
       "    .dataframe thead th {\n",
       "        text-align: right;\n",
       "    }\n",
       "</style>\n",
       "<table border=\"1\" class=\"dataframe\">\n",
       "  <thead>\n",
       "    <tr style=\"text-align: right;\">\n",
       "      <th></th>\n",
       "      <th>Name</th>\n",
       "      <th>Author</th>\n",
       "      <th>Narrator</th>\n",
       "      <th>Time</th>\n",
       "      <th>Release Date</th>\n",
       "      <th>Language</th>\n",
       "      <th>Stars</th>\n",
       "      <th>Price</th>\n",
       "    </tr>\n",
       "  </thead>\n",
       "  <tbody>\n",
       "    <tr>\n",
       "      <th>0</th>\n",
       "      <td>Geronimo Stilton #11 &amp; #12</td>\n",
       "      <td>Writtenby:GeronimoStilton</td>\n",
       "      <td>Narratedby:BillLobely</td>\n",
       "      <td>2 hrs and 20 mins</td>\n",
       "      <td>04-08-08</td>\n",
       "      <td>English</td>\n",
       "      <td>5 out of 5 stars34 ratings</td>\n",
       "      <td>468.00</td>\n",
       "    </tr>\n",
       "    <tr>\n",
       "      <th>1</th>\n",
       "      <td>The Burning Maze</td>\n",
       "      <td>Writtenby:RickRiordan</td>\n",
       "      <td>Narratedby:RobbieDaymond</td>\n",
       "      <td>13 hrs and 8 mins</td>\n",
       "      <td>01-05-18</td>\n",
       "      <td>English</td>\n",
       "      <td>4.5 out of 5 stars41 ratings</td>\n",
       "      <td>820.00</td>\n",
       "    </tr>\n",
       "    <tr>\n",
       "      <th>2</th>\n",
       "      <td>The Deep End</td>\n",
       "      <td>Writtenby:JeffKinney</td>\n",
       "      <td>Narratedby:DanRussell</td>\n",
       "      <td>2 hrs and 3 mins</td>\n",
       "      <td>06-11-20</td>\n",
       "      <td>English</td>\n",
       "      <td>4.5 out of 5 stars38 ratings</td>\n",
       "      <td>410.00</td>\n",
       "    </tr>\n",
       "    <tr>\n",
       "      <th>3</th>\n",
       "      <td>Daughter of the Deep</td>\n",
       "      <td>Writtenby:RickRiordan</td>\n",
       "      <td>Narratedby:SoneelaNankani</td>\n",
       "      <td>11 hrs and 16 mins</td>\n",
       "      <td>05-10-21</td>\n",
       "      <td>English</td>\n",
       "      <td>4.5 out of 5 stars12 ratings</td>\n",
       "      <td>615.00</td>\n",
       "    </tr>\n",
       "    <tr>\n",
       "      <th>4</th>\n",
       "      <td>The Lightning Thief: Percy Jackson, Book 1</td>\n",
       "      <td>Writtenby:RickRiordan</td>\n",
       "      <td>Narratedby:JesseBernstein</td>\n",
       "      <td>10 hrs</td>\n",
       "      <td>13-01-10</td>\n",
       "      <td>English</td>\n",
       "      <td>4.5 out of 5 stars181 ratings</td>\n",
       "      <td>820.00</td>\n",
       "    </tr>\n",
       "  </tbody>\n",
       "</table>\n",
       "</div>"
      ],
      "text/plain": [
       "                                         Name                     Author  \\\n",
       "0                  Geronimo Stilton #11 & #12  Writtenby:GeronimoStilton   \n",
       "1                            The Burning Maze      Writtenby:RickRiordan   \n",
       "2                                The Deep End       Writtenby:JeffKinney   \n",
       "3                        Daughter of the Deep      Writtenby:RickRiordan   \n",
       "4  The Lightning Thief: Percy Jackson, Book 1      Writtenby:RickRiordan   \n",
       "\n",
       "                    Narrator                Time Release Date Language  \\\n",
       "0      Narratedby:BillLobely   2 hrs and 20 mins     04-08-08  English   \n",
       "1   Narratedby:RobbieDaymond   13 hrs and 8 mins     01-05-18  English   \n",
       "2      Narratedby:DanRussell    2 hrs and 3 mins     06-11-20  English   \n",
       "3  Narratedby:SoneelaNankani  11 hrs and 16 mins     05-10-21  English   \n",
       "4  Narratedby:JesseBernstein              10 hrs     13-01-10  English   \n",
       "\n",
       "                           Stars   Price  \n",
       "0     5 out of 5 stars34 ratings  468.00  \n",
       "1   4.5 out of 5 stars41 ratings  820.00  \n",
       "2   4.5 out of 5 stars38 ratings  410.00  \n",
       "3   4.5 out of 5 stars12 ratings  615.00  \n",
       "4  4.5 out of 5 stars181 ratings  820.00  "
      ]
     },
     "execution_count": 3,
     "metadata": {},
     "output_type": "execute_result"
    }
   ],
   "source": [
    "audible_data.rename(columns={'releasedate': 'release date'}, inplace=True)\n",
    "audible_data.rename(str.title, axis='columns', inplace=True)\n",
    "audible_data.head()"
   ]
  },
  {
   "cell_type": "code",
   "execution_count": 4,
   "metadata": {
    "ExecuteTime": {
     "end_time": "2024-03-26T19:56:12.640218Z",
     "start_time": "2024-03-26T19:56:12.538419Z"
    }
   },
   "outputs": [
    {
     "data": {
      "text/html": [
       "<div>\n",
       "<style scoped>\n",
       "    .dataframe tbody tr th:only-of-type {\n",
       "        vertical-align: middle;\n",
       "    }\n",
       "\n",
       "    .dataframe tbody tr th {\n",
       "        vertical-align: top;\n",
       "    }\n",
       "\n",
       "    .dataframe thead th {\n",
       "        text-align: right;\n",
       "    }\n",
       "</style>\n",
       "<table border=\"1\" class=\"dataframe\">\n",
       "  <thead>\n",
       "    <tr style=\"text-align: right;\">\n",
       "      <th></th>\n",
       "      <th>Name</th>\n",
       "      <th>Author</th>\n",
       "      <th>Narrator</th>\n",
       "      <th>Time</th>\n",
       "      <th>Release Date</th>\n",
       "      <th>Language</th>\n",
       "      <th>Stars</th>\n",
       "      <th>Price</th>\n",
       "    </tr>\n",
       "  </thead>\n",
       "  <tbody>\n",
       "    <tr>\n",
       "      <th>count</th>\n",
       "      <td>87489</td>\n",
       "      <td>87489</td>\n",
       "      <td>87489</td>\n",
       "      <td>87489</td>\n",
       "      <td>87489</td>\n",
       "      <td>87489</td>\n",
       "      <td>87489</td>\n",
       "      <td>87489</td>\n",
       "    </tr>\n",
       "    <tr>\n",
       "      <th>unique</th>\n",
       "      <td>82767</td>\n",
       "      <td>48374</td>\n",
       "      <td>29717</td>\n",
       "      <td>2284</td>\n",
       "      <td>5058</td>\n",
       "      <td>36</td>\n",
       "      <td>665</td>\n",
       "      <td>1011</td>\n",
       "    </tr>\n",
       "    <tr>\n",
       "      <th>top</th>\n",
       "      <td>The Art of War</td>\n",
       "      <td>Writtenby:矢島雅弘,石橋遊</td>\n",
       "      <td>Narratedby:anonymous</td>\n",
       "      <td>2 mins</td>\n",
       "      <td>16-05-18</td>\n",
       "      <td>English</td>\n",
       "      <td>Not rated yet</td>\n",
       "      <td>586.00</td>\n",
       "    </tr>\n",
       "    <tr>\n",
       "      <th>freq</th>\n",
       "      <td>20</td>\n",
       "      <td>874</td>\n",
       "      <td>1034</td>\n",
       "      <td>372</td>\n",
       "      <td>773</td>\n",
       "      <td>61884</td>\n",
       "      <td>72417</td>\n",
       "      <td>5533</td>\n",
       "    </tr>\n",
       "  </tbody>\n",
       "</table>\n",
       "</div>"
      ],
      "text/plain": [
       "                  Name              Author              Narrator    Time  \\\n",
       "count            87489               87489                 87489   87489   \n",
       "unique           82767               48374                 29717    2284   \n",
       "top     The Art of War  Writtenby:矢島雅弘,石橋遊  Narratedby:anonymous  2 mins   \n",
       "freq                20                 874                  1034     372   \n",
       "\n",
       "       Release Date Language          Stars   Price  \n",
       "count         87489    87489          87489   87489  \n",
       "unique         5058       36            665    1011  \n",
       "top        16-05-18  English  Not rated yet  586.00  \n",
       "freq            773    61884          72417    5533  "
      ]
     },
     "execution_count": 4,
     "metadata": {},
     "output_type": "execute_result"
    }
   ],
   "source": [
    "audible_data.describe(include='all')"
   ]
  },
  {
   "cell_type": "code",
   "execution_count": 5,
   "metadata": {},
   "outputs": [
    {
     "data": {
      "text/plain": [
       "Name            object\n",
       "Author          object\n",
       "Narrator        object\n",
       "Time            object\n",
       "Release Date    object\n",
       "Language        object\n",
       "Stars           object\n",
       "Price           object\n",
       "dtype: object"
      ]
     },
     "execution_count": 5,
     "metadata": {},
     "output_type": "execute_result"
    }
   ],
   "source": [
    "audible_data.dtypes"
   ]
  },
  {
   "cell_type": "markdown",
   "metadata": {},
   "source": [
    "## Author Column Preprocess"
   ]
  },
  {
   "cell_type": "markdown",
   "metadata": {},
   "source": [
    "### Strip \"Writtenby:\""
   ]
  },
  {
   "cell_type": "code",
   "execution_count": 6,
   "metadata": {
    "ExecuteTime": {
     "end_time": "2024-03-26T19:56:12.644926Z",
     "start_time": "2024-03-26T19:56:12.619727Z"
    },
    "collapsed": false
   },
   "outputs": [
    {
     "data": {
      "text/plain": [
       "0    GeronimoStilton\n",
       "1        RickRiordan\n",
       "2         JeffKinney\n",
       "3        RickRiordan\n",
       "4        RickRiordan\n",
       "Name: Author, dtype: object"
      ]
     },
     "execution_count": 6,
     "metadata": {},
     "output_type": "execute_result"
    }
   ],
   "source": [
    "audible_data['Author'] = audible_data['Author'].str.replace('Writtenby:', '')\n",
    "audible_data['Author'].head()"
   ]
  },
  {
   "cell_type": "markdown",
   "metadata": {},
   "source": [
    "### Handle Multiple Authors"
   ]
  },
  {
   "cell_type": "code",
   "execution_count": 7,
   "metadata": {
    "ExecuteTime": {
     "end_time": "2024-03-26T19:56:12.751943Z",
     "start_time": "2024-03-26T19:56:12.636676Z"
    },
    "collapsed": false
   },
   "outputs": [
    {
     "data": {
      "text/plain": [
       "53                    [JuliaDonaldson, AxelScheffler]\n",
       "72                             [Vegetta777, Willyrex]\n",
       "74        [SophieSchoenwald, NadineReitz-Illustrator]\n",
       "77     [BertrandFichou, NoraThullin, CatherinedeLasa]\n",
       "101                         [M.G.Leonard, SamSedgman]\n",
       "Name: Author, dtype: object"
      ]
     },
     "execution_count": 7,
     "metadata": {},
     "output_type": "execute_result"
    }
   ],
   "source": [
    "audible_data['Author'] = audible_data['Author'].str.rstrip(',').str.split(',')\n",
    "audible_data.loc[audible_data['Author'].apply(len) > 1, 'Author'].head()"
   ]
  },
  {
   "cell_type": "markdown",
   "metadata": {},
   "source": [
    "## Narrator Column Preprocess"
   ]
  },
  {
   "cell_type": "markdown",
   "metadata": {},
   "source": [
    "### Strip \"Narratedby:\""
   ]
  },
  {
   "cell_type": "code",
   "execution_count": 8,
   "metadata": {
    "ExecuteTime": {
     "end_time": "2024-03-26T19:56:12.798285Z",
     "start_time": "2024-03-26T19:56:12.706760Z"
    }
   },
   "outputs": [
    {
     "data": {
      "text/plain": [
       "0        BillLobely\n",
       "1     RobbieDaymond\n",
       "2        DanRussell\n",
       "3    SoneelaNankani\n",
       "4    JesseBernstein\n",
       "Name: Narrator, dtype: object"
      ]
     },
     "execution_count": 8,
     "metadata": {},
     "output_type": "execute_result"
    }
   ],
   "source": [
    "audible_data['Narrator'] = audible_data['Narrator'].str.replace('Narratedby:', '')\n",
    "audible_data['Narrator'].head()"
   ]
  },
  {
   "cell_type": "markdown",
   "metadata": {},
   "source": [
    "### Handle Multiple Narrators"
   ]
  },
  {
   "cell_type": "code",
   "execution_count": 9,
   "metadata": {
    "ExecuteTime": {
     "end_time": "2024-03-26T19:56:12.818872Z",
     "start_time": "2024-03-26T19:56:12.717983Z"
    }
   },
   "outputs": [
    {
     "data": {
      "text/plain": [
       "14          [PhilipPullman, fullcast, RuthWilson]\n",
       "28                   [JaneCollingwood, JosephMay]\n",
       "34    [MonicaRachelle, JimD.Johnston, KatieOtten]\n",
       "58     [LenForgione, AshtonSundholm, JadenRogers]\n",
       "77    [GuyChappelier, FrédéricSanchez, MarieZidi]\n",
       "Name: Narrator, dtype: object"
      ]
     },
     "execution_count": 9,
     "metadata": {},
     "output_type": "execute_result"
    }
   ],
   "source": [
    "audible_data['Narrator'] = audible_data['Narrator'].str.rstrip(',').str.split(',')\n",
    "audible_data.loc[audible_data['Narrator'].apply(len) > 1, 'Narrator'].head()"
   ]
  },
  {
   "cell_type": "markdown",
   "metadata": {},
   "source": [
    "## Time Column Preprocess"
   ]
  },
  {
   "cell_type": "markdown",
   "metadata": {},
   "source": [
    "### Convert Time To Timedelta"
   ]
  },
  {
   "cell_type": "code",
   "execution_count": 10,
   "metadata": {},
   "outputs": [
    {
     "data": {
      "text/plain": [
       "0   0 days 02:20:00\n",
       "1   0 days 13:08:00\n",
       "2   0 days 02:03:00\n",
       "3   0 days 11:16:00\n",
       "4   0 days 10:00:00\n",
       "Name: Time, dtype: timedelta64[ns]"
      ]
     },
     "execution_count": 10,
     "metadata": {},
     "output_type": "execute_result"
    }
   ],
   "source": [
    "def convert_to_timedelta(time_string):\n",
    "    hours_match = re.search(r'(\\d+)\\s*hrs', time_string)\n",
    "    minutes_match = re.search(r'(\\d+)\\s*mins', time_string)\n",
    "    return timedelta(\n",
    "        hours=int(hours_match.group(1)) if hours_match else 0,\n",
    "        minutes=int(minutes_match.group(1)) if minutes_match else 0\n",
    "    )\n",
    "\n",
    "audible_data['Time'] = audible_data['Time'].apply(convert_to_timedelta)\n",
    "audible_data['Time'].head()"
   ]
  },
  {
   "cell_type": "markdown",
   "metadata": {},
   "source": [
    "## Release Date Column Preprocess"
   ]
  },
  {
   "cell_type": "markdown",
   "metadata": {},
   "source": [
    "### Convert Release Date To Datetime"
   ]
  },
  {
   "cell_type": "code",
   "execution_count": 11,
   "metadata": {},
   "outputs": [
    {
     "data": {
      "text/plain": [
       "0   2008-08-04\n",
       "1   2018-05-01\n",
       "2   2020-11-06\n",
       "3   2021-10-05\n",
       "4   2010-01-13\n",
       "Name: Release Date, dtype: datetime64[ns]"
      ]
     },
     "execution_count": 11,
     "metadata": {},
     "output_type": "execute_result"
    }
   ],
   "source": [
    "audible_data['Release Date'] = pd.to_datetime(audible_data['Release Date'], format='%d-%m-%y')\n",
    "audible_data['Release Date'].head()"
   ]
  },
  {
   "cell_type": "markdown",
   "metadata": {},
   "source": [
    "## Language Column Preprocess"
   ]
  },
  {
   "cell_type": "code",
   "execution_count": 12,
   "metadata": {},
   "outputs": [
    {
     "data": {
      "text/plain": [
       "Language\n",
       "English             61884\n",
       "German               8295\n",
       "Spanish              3496\n",
       "Japanese             3167\n",
       "Italian              2694\n",
       "French               2386\n",
       "Russian              1804\n",
       "Danish                935\n",
       "Portuguese            526\n",
       "Swedish               515\n",
       "Hindi                 436\n",
       "Polish                224\n",
       "Finnish               197\n",
       "Dutch                 190\n",
       "Tamil                 161\n",
       "Catalan               153\n",
       "Mandarin_Chinese       97\n",
       "Icelandic              52\n",
       "Romanian               50\n",
       "Hungarian              36\n",
       "Urdu                   34\n",
       "Afrikaans              28\n",
       "Czech                  23\n",
       "Turkish                20\n",
       "Greek                  18\n",
       "Arabic                 16\n",
       "Norwegian              16\n",
       "Galician               10\n",
       "Bulgarian               9\n",
       "Korean                  4\n",
       "Slovene                 4\n",
       "Hebrew                  2\n",
       "Basque                  2\n",
       "Telugu                  2\n",
       "Lithuanian              2\n",
       "Ukrainian               1\n",
       "Name: count, dtype: int64"
      ]
     },
     "execution_count": 12,
     "metadata": {},
     "output_type": "execute_result"
    }
   ],
   "source": [
    "audible_data['Language'] = audible_data['Language'].str.title()\n",
    "audible_data['Language'].value_counts()"
   ]
  },
  {
   "cell_type": "markdown",
   "metadata": {},
   "source": [
    "## Stars Column Preprocess"
   ]
  },
  {
   "cell_type": "markdown",
   "metadata": {},
   "source": [
    "### Examine Rated Or Not"
   ]
  },
  {
   "cell_type": "code",
   "execution_count": 13,
   "metadata": {},
   "outputs": [],
   "source": [
    "audible_data['Rated'] = ~audible_data['Stars'].str.contains('Not rated yet')"
   ]
  },
  {
   "cell_type": "code",
   "execution_count": 14,
   "metadata": {},
   "outputs": [
    {
     "data": {
      "text/html": [
       "<div>\n",
       "<style scoped>\n",
       "    .dataframe tbody tr th:only-of-type {\n",
       "        vertical-align: middle;\n",
       "    }\n",
       "\n",
       "    .dataframe tbody tr th {\n",
       "        vertical-align: top;\n",
       "    }\n",
       "\n",
       "    .dataframe thead th {\n",
       "        text-align: right;\n",
       "    }\n",
       "</style>\n",
       "<table border=\"1\" class=\"dataframe\">\n",
       "  <thead>\n",
       "    <tr style=\"text-align: right;\">\n",
       "      <th></th>\n",
       "      <th>Rated</th>\n",
       "      <th>Stars</th>\n",
       "    </tr>\n",
       "  </thead>\n",
       "  <tbody>\n",
       "    <tr>\n",
       "      <th>0</th>\n",
       "      <td>True</td>\n",
       "      <td>5 out of 5 stars34 ratings</td>\n",
       "    </tr>\n",
       "    <tr>\n",
       "      <th>1</th>\n",
       "      <td>True</td>\n",
       "      <td>4.5 out of 5 stars41 ratings</td>\n",
       "    </tr>\n",
       "    <tr>\n",
       "      <th>2</th>\n",
       "      <td>True</td>\n",
       "      <td>4.5 out of 5 stars38 ratings</td>\n",
       "    </tr>\n",
       "    <tr>\n",
       "      <th>3</th>\n",
       "      <td>True</td>\n",
       "      <td>4.5 out of 5 stars12 ratings</td>\n",
       "    </tr>\n",
       "    <tr>\n",
       "      <th>4</th>\n",
       "      <td>True</td>\n",
       "      <td>4.5 out of 5 stars181 ratings</td>\n",
       "    </tr>\n",
       "  </tbody>\n",
       "</table>\n",
       "</div>"
      ],
      "text/plain": [
       "   Rated                          Stars\n",
       "0   True     5 out of 5 stars34 ratings\n",
       "1   True   4.5 out of 5 stars41 ratings\n",
       "2   True   4.5 out of 5 stars38 ratings\n",
       "3   True   4.5 out of 5 stars12 ratings\n",
       "4   True  4.5 out of 5 stars181 ratings"
      ]
     },
     "execution_count": 14,
     "metadata": {},
     "output_type": "execute_result"
    }
   ],
   "source": [
    "audible_data.loc[audible_data['Rated'] == True, ['Rated', 'Stars']].head()"
   ]
  },
  {
   "cell_type": "code",
   "execution_count": 15,
   "metadata": {},
   "outputs": [
    {
     "data": {
      "text/html": [
       "<div>\n",
       "<style scoped>\n",
       "    .dataframe tbody tr th:only-of-type {\n",
       "        vertical-align: middle;\n",
       "    }\n",
       "\n",
       "    .dataframe tbody tr th {\n",
       "        vertical-align: top;\n",
       "    }\n",
       "\n",
       "    .dataframe thead th {\n",
       "        text-align: right;\n",
       "    }\n",
       "</style>\n",
       "<table border=\"1\" class=\"dataframe\">\n",
       "  <thead>\n",
       "    <tr style=\"text-align: right;\">\n",
       "      <th></th>\n",
       "      <th>Rated</th>\n",
       "      <th>Stars</th>\n",
       "    </tr>\n",
       "  </thead>\n",
       "  <tbody>\n",
       "    <tr>\n",
       "      <th>34</th>\n",
       "      <td>False</td>\n",
       "      <td>Not rated yet</td>\n",
       "    </tr>\n",
       "    <tr>\n",
       "      <th>50</th>\n",
       "      <td>False</td>\n",
       "      <td>Not rated yet</td>\n",
       "    </tr>\n",
       "    <tr>\n",
       "      <th>51</th>\n",
       "      <td>False</td>\n",
       "      <td>Not rated yet</td>\n",
       "    </tr>\n",
       "    <tr>\n",
       "      <th>61</th>\n",
       "      <td>False</td>\n",
       "      <td>Not rated yet</td>\n",
       "    </tr>\n",
       "    <tr>\n",
       "      <th>62</th>\n",
       "      <td>False</td>\n",
       "      <td>Not rated yet</td>\n",
       "    </tr>\n",
       "  </tbody>\n",
       "</table>\n",
       "</div>"
      ],
      "text/plain": [
       "    Rated          Stars\n",
       "34  False  Not rated yet\n",
       "50  False  Not rated yet\n",
       "51  False  Not rated yet\n",
       "61  False  Not rated yet\n",
       "62  False  Not rated yet"
      ]
     },
     "execution_count": 15,
     "metadata": {},
     "output_type": "execute_result"
    }
   ],
   "source": [
    "audible_data.loc[audible_data['Rated'] == False, ['Rated', 'Stars']].head()"
   ]
  },
  {
   "cell_type": "markdown",
   "metadata": {},
   "source": [
    "### Extract Rating From Stars"
   ]
  },
  {
   "cell_type": "code",
   "execution_count": 16,
   "metadata": {},
   "outputs": [],
   "source": [
    "audible_data['Stars'] = audible_data['Stars'].str.replace(',', '')\n",
    "extract = lambda cast, row, regex, group_num : cast(re.search(regex, row['Stars']).group(group_num)) if row['Rated'] else np.nan\n",
    "audible_data['Number Of Rating Response'] = audible_data.apply(lambda row: extract(int, row, r'stars(\\d+) rating', 1), axis=1).astype('Int64')\n",
    "audible_data['Stars'] = audible_data.apply(lambda row: extract(float, row, r'(\\d+(\\.\\d+)?) out of', 1), axis=1).astype('Float64')\n",
    "audible_data = audible_data[list(audible_data.columns)[:-4] + ['Rated', 'Stars', 'Number Of Rating Response', 'Price']]\n",
    "audible_data.rename(columns={'Stars': 'Stars (Max: 5)'}, inplace=True)"
   ]
  },
  {
   "cell_type": "code",
   "execution_count": 17,
   "metadata": {},
   "outputs": [
    {
     "data": {
      "text/html": [
       "<div>\n",
       "<style scoped>\n",
       "    .dataframe tbody tr th:only-of-type {\n",
       "        vertical-align: middle;\n",
       "    }\n",
       "\n",
       "    .dataframe tbody tr th {\n",
       "        vertical-align: top;\n",
       "    }\n",
       "\n",
       "    .dataframe thead th {\n",
       "        text-align: right;\n",
       "    }\n",
       "</style>\n",
       "<table border=\"1\" class=\"dataframe\">\n",
       "  <thead>\n",
       "    <tr style=\"text-align: right;\">\n",
       "      <th></th>\n",
       "      <th>Rated</th>\n",
       "      <th>Stars (Max: 5)</th>\n",
       "      <th>Number Of Rating Response</th>\n",
       "    </tr>\n",
       "  </thead>\n",
       "  <tbody>\n",
       "    <tr>\n",
       "      <th>0</th>\n",
       "      <td>True</td>\n",
       "      <td>5.0</td>\n",
       "      <td>34</td>\n",
       "    </tr>\n",
       "    <tr>\n",
       "      <th>1</th>\n",
       "      <td>True</td>\n",
       "      <td>4.5</td>\n",
       "      <td>41</td>\n",
       "    </tr>\n",
       "    <tr>\n",
       "      <th>2</th>\n",
       "      <td>True</td>\n",
       "      <td>4.5</td>\n",
       "      <td>38</td>\n",
       "    </tr>\n",
       "    <tr>\n",
       "      <th>3</th>\n",
       "      <td>True</td>\n",
       "      <td>4.5</td>\n",
       "      <td>12</td>\n",
       "    </tr>\n",
       "    <tr>\n",
       "      <th>4</th>\n",
       "      <td>True</td>\n",
       "      <td>4.5</td>\n",
       "      <td>181</td>\n",
       "    </tr>\n",
       "  </tbody>\n",
       "</table>\n",
       "</div>"
      ],
      "text/plain": [
       "   Rated  Stars (Max: 5)  Number Of Rating Response\n",
       "0   True             5.0                         34\n",
       "1   True             4.5                         41\n",
       "2   True             4.5                         38\n",
       "3   True             4.5                         12\n",
       "4   True             4.5                        181"
      ]
     },
     "execution_count": 17,
     "metadata": {},
     "output_type": "execute_result"
    }
   ],
   "source": [
    "audible_data.loc[audible_data['Rated'] == True, ['Rated', 'Stars (Max: 5)', 'Number Of Rating Response']].head()"
   ]
  },
  {
   "cell_type": "code",
   "execution_count": 18,
   "metadata": {},
   "outputs": [
    {
     "data": {
      "text/html": [
       "<div>\n",
       "<style scoped>\n",
       "    .dataframe tbody tr th:only-of-type {\n",
       "        vertical-align: middle;\n",
       "    }\n",
       "\n",
       "    .dataframe tbody tr th {\n",
       "        vertical-align: top;\n",
       "    }\n",
       "\n",
       "    .dataframe thead th {\n",
       "        text-align: right;\n",
       "    }\n",
       "</style>\n",
       "<table border=\"1\" class=\"dataframe\">\n",
       "  <thead>\n",
       "    <tr style=\"text-align: right;\">\n",
       "      <th></th>\n",
       "      <th>Rated</th>\n",
       "      <th>Stars (Max: 5)</th>\n",
       "      <th>Number Of Rating Response</th>\n",
       "    </tr>\n",
       "  </thead>\n",
       "  <tbody>\n",
       "    <tr>\n",
       "      <th>34</th>\n",
       "      <td>False</td>\n",
       "      <td>&lt;NA&gt;</td>\n",
       "      <td>&lt;NA&gt;</td>\n",
       "    </tr>\n",
       "    <tr>\n",
       "      <th>50</th>\n",
       "      <td>False</td>\n",
       "      <td>&lt;NA&gt;</td>\n",
       "      <td>&lt;NA&gt;</td>\n",
       "    </tr>\n",
       "    <tr>\n",
       "      <th>51</th>\n",
       "      <td>False</td>\n",
       "      <td>&lt;NA&gt;</td>\n",
       "      <td>&lt;NA&gt;</td>\n",
       "    </tr>\n",
       "    <tr>\n",
       "      <th>61</th>\n",
       "      <td>False</td>\n",
       "      <td>&lt;NA&gt;</td>\n",
       "      <td>&lt;NA&gt;</td>\n",
       "    </tr>\n",
       "    <tr>\n",
       "      <th>62</th>\n",
       "      <td>False</td>\n",
       "      <td>&lt;NA&gt;</td>\n",
       "      <td>&lt;NA&gt;</td>\n",
       "    </tr>\n",
       "  </tbody>\n",
       "</table>\n",
       "</div>"
      ],
      "text/plain": [
       "    Rated  Stars (Max: 5)  Number Of Rating Response\n",
       "34  False            <NA>                       <NA>\n",
       "50  False            <NA>                       <NA>\n",
       "51  False            <NA>                       <NA>\n",
       "61  False            <NA>                       <NA>\n",
       "62  False            <NA>                       <NA>"
      ]
     },
     "execution_count": 18,
     "metadata": {},
     "output_type": "execute_result"
    }
   ],
   "source": [
    "audible_data.loc[audible_data['Rated'] == False, ['Rated', 'Stars (Max: 5)', 'Number Of Rating Response']].head()"
   ]
  },
  {
   "cell_type": "markdown",
   "metadata": {},
   "source": [
    "## Price Column Preprocess"
   ]
  },
  {
   "cell_type": "markdown",
   "metadata": {},
   "source": [
    "### Convert Price to Float"
   ]
  },
  {
   "cell_type": "code",
   "execution_count": 19,
   "metadata": {},
   "outputs": [
    {
     "data": {
      "text/plain": [
       "Float64Dtype()"
      ]
     },
     "execution_count": 19,
     "metadata": {},
     "output_type": "execute_result"
    }
   ],
   "source": [
    "audible_data['Price'] = audible_data['Price'].str.replace('Free', '0').str.replace(',', '').astype('Float64')\n",
    "audible_data['Price'].dtypes"
   ]
  },
  {
   "cell_type": "markdown",
   "metadata": {},
   "source": [
    "## Save Preprocessed Dataset"
   ]
  },
  {
   "cell_type": "code",
   "execution_count": 20,
   "metadata": {},
   "outputs": [],
   "source": [
    "audible_data.to_csv(data_folder + '/audible.csv', index=False)"
   ]
  },
  {
   "cell_type": "markdown",
   "metadata": {},
   "source": [
    "# Data Exploration "
   ]
  },
  {
   "cell_type": "code",
   "execution_count": 21,
   "metadata": {
    "ExecuteTime": {
     "end_time": "2024-03-26T19:56:12.820819Z",
     "start_time": "2024-03-26T19:56:12.754422Z"
    }
   },
   "outputs": [
    {
     "data": {
      "text/html": [
       "<div>\n",
       "<style scoped>\n",
       "    .dataframe tbody tr th:only-of-type {\n",
       "        vertical-align: middle;\n",
       "    }\n",
       "\n",
       "    .dataframe tbody tr th {\n",
       "        vertical-align: top;\n",
       "    }\n",
       "\n",
       "    .dataframe thead th {\n",
       "        text-align: right;\n",
       "    }\n",
       "</style>\n",
       "<table border=\"1\" class=\"dataframe\">\n",
       "  <thead>\n",
       "    <tr style=\"text-align: right;\">\n",
       "      <th></th>\n",
       "      <th>Name</th>\n",
       "      <th>Author</th>\n",
       "      <th>Narrator</th>\n",
       "      <th>Time</th>\n",
       "      <th>Release Date</th>\n",
       "      <th>Language</th>\n",
       "      <th>Rated</th>\n",
       "      <th>Stars (Max: 5)</th>\n",
       "      <th>Number Of Rating Response</th>\n",
       "      <th>Price</th>\n",
       "    </tr>\n",
       "  </thead>\n",
       "  <tbody>\n",
       "    <tr>\n",
       "      <th>0</th>\n",
       "      <td>Geronimo Stilton #11 &amp; #12</td>\n",
       "      <td>[GeronimoStilton]</td>\n",
       "      <td>[BillLobely]</td>\n",
       "      <td>0 days 02:20:00</td>\n",
       "      <td>2008-08-04</td>\n",
       "      <td>English</td>\n",
       "      <td>True</td>\n",
       "      <td>5.0</td>\n",
       "      <td>34</td>\n",
       "      <td>468.0</td>\n",
       "    </tr>\n",
       "    <tr>\n",
       "      <th>1</th>\n",
       "      <td>The Burning Maze</td>\n",
       "      <td>[RickRiordan]</td>\n",
       "      <td>[RobbieDaymond]</td>\n",
       "      <td>0 days 13:08:00</td>\n",
       "      <td>2018-05-01</td>\n",
       "      <td>English</td>\n",
       "      <td>True</td>\n",
       "      <td>4.5</td>\n",
       "      <td>41</td>\n",
       "      <td>820.0</td>\n",
       "    </tr>\n",
       "    <tr>\n",
       "      <th>2</th>\n",
       "      <td>The Deep End</td>\n",
       "      <td>[JeffKinney]</td>\n",
       "      <td>[DanRussell]</td>\n",
       "      <td>0 days 02:03:00</td>\n",
       "      <td>2020-11-06</td>\n",
       "      <td>English</td>\n",
       "      <td>True</td>\n",
       "      <td>4.5</td>\n",
       "      <td>38</td>\n",
       "      <td>410.0</td>\n",
       "    </tr>\n",
       "    <tr>\n",
       "      <th>3</th>\n",
       "      <td>Daughter of the Deep</td>\n",
       "      <td>[RickRiordan]</td>\n",
       "      <td>[SoneelaNankani]</td>\n",
       "      <td>0 days 11:16:00</td>\n",
       "      <td>2021-10-05</td>\n",
       "      <td>English</td>\n",
       "      <td>True</td>\n",
       "      <td>4.5</td>\n",
       "      <td>12</td>\n",
       "      <td>615.0</td>\n",
       "    </tr>\n",
       "    <tr>\n",
       "      <th>4</th>\n",
       "      <td>The Lightning Thief: Percy Jackson, Book 1</td>\n",
       "      <td>[RickRiordan]</td>\n",
       "      <td>[JesseBernstein]</td>\n",
       "      <td>0 days 10:00:00</td>\n",
       "      <td>2010-01-13</td>\n",
       "      <td>English</td>\n",
       "      <td>True</td>\n",
       "      <td>4.5</td>\n",
       "      <td>181</td>\n",
       "      <td>820.0</td>\n",
       "    </tr>\n",
       "  </tbody>\n",
       "</table>\n",
       "</div>"
      ],
      "text/plain": [
       "                                         Name             Author  \\\n",
       "0                  Geronimo Stilton #11 & #12  [GeronimoStilton]   \n",
       "1                            The Burning Maze      [RickRiordan]   \n",
       "2                                The Deep End       [JeffKinney]   \n",
       "3                        Daughter of the Deep      [RickRiordan]   \n",
       "4  The Lightning Thief: Percy Jackson, Book 1      [RickRiordan]   \n",
       "\n",
       "           Narrator            Time Release Date Language  Rated  \\\n",
       "0      [BillLobely] 0 days 02:20:00   2008-08-04  English   True   \n",
       "1   [RobbieDaymond] 0 days 13:08:00   2018-05-01  English   True   \n",
       "2      [DanRussell] 0 days 02:03:00   2020-11-06  English   True   \n",
       "3  [SoneelaNankani] 0 days 11:16:00   2021-10-05  English   True   \n",
       "4  [JesseBernstein] 0 days 10:00:00   2010-01-13  English   True   \n",
       "\n",
       "   Stars (Max: 5)  Number Of Rating Response  Price  \n",
       "0             5.0                         34  468.0  \n",
       "1             4.5                         41  820.0  \n",
       "2             4.5                         38  410.0  \n",
       "3             4.5                         12  615.0  \n",
       "4             4.5                        181  820.0  "
      ]
     },
     "execution_count": 21,
     "metadata": {},
     "output_type": "execute_result"
    }
   ],
   "source": [
    "audible_data.head()"
   ]
  },
  {
   "cell_type": "code",
   "execution_count": 22,
   "metadata": {},
   "outputs": [
    {
     "data": {
      "text/html": [
       "<div>\n",
       "<style scoped>\n",
       "    .dataframe tbody tr th:only-of-type {\n",
       "        vertical-align: middle;\n",
       "    }\n",
       "\n",
       "    .dataframe tbody tr th {\n",
       "        vertical-align: top;\n",
       "    }\n",
       "\n",
       "    .dataframe thead th {\n",
       "        text-align: right;\n",
       "    }\n",
       "</style>\n",
       "<table border=\"1\" class=\"dataframe\">\n",
       "  <thead>\n",
       "    <tr style=\"text-align: right;\">\n",
       "      <th></th>\n",
       "      <th>Name</th>\n",
       "      <th>Author</th>\n",
       "      <th>Narrator</th>\n",
       "      <th>Time</th>\n",
       "      <th>Release Date</th>\n",
       "      <th>Language</th>\n",
       "      <th>Rated</th>\n",
       "      <th>Stars (Max: 5)</th>\n",
       "      <th>Number Of Rating Response</th>\n",
       "      <th>Price</th>\n",
       "    </tr>\n",
       "  </thead>\n",
       "  <tbody>\n",
       "    <tr>\n",
       "      <th>count</th>\n",
       "      <td>87489</td>\n",
       "      <td>87489</td>\n",
       "      <td>87489</td>\n",
       "      <td>87489</td>\n",
       "      <td>87489</td>\n",
       "      <td>87489</td>\n",
       "      <td>87489</td>\n",
       "      <td>15072.0</td>\n",
       "      <td>15072.0</td>\n",
       "      <td>87489.0</td>\n",
       "    </tr>\n",
       "    <tr>\n",
       "      <th>unique</th>\n",
       "      <td>82767</td>\n",
       "      <td>48369</td>\n",
       "      <td>29703</td>\n",
       "      <td>NaN</td>\n",
       "      <td>NaN</td>\n",
       "      <td>36</td>\n",
       "      <td>2</td>\n",
       "      <td>&lt;NA&gt;</td>\n",
       "      <td>&lt;NA&gt;</td>\n",
       "      <td>&lt;NA&gt;</td>\n",
       "    </tr>\n",
       "    <tr>\n",
       "      <th>top</th>\n",
       "      <td>The Art of War</td>\n",
       "      <td>[矢島雅弘, 石橋遊]</td>\n",
       "      <td>[anonymous]</td>\n",
       "      <td>NaN</td>\n",
       "      <td>NaN</td>\n",
       "      <td>English</td>\n",
       "      <td>False</td>\n",
       "      <td>&lt;NA&gt;</td>\n",
       "      <td>&lt;NA&gt;</td>\n",
       "      <td>&lt;NA&gt;</td>\n",
       "    </tr>\n",
       "    <tr>\n",
       "      <th>freq</th>\n",
       "      <td>20</td>\n",
       "      <td>874</td>\n",
       "      <td>1034</td>\n",
       "      <td>NaN</td>\n",
       "      <td>NaN</td>\n",
       "      <td>61884</td>\n",
       "      <td>72417</td>\n",
       "      <td>&lt;NA&gt;</td>\n",
       "      <td>&lt;NA&gt;</td>\n",
       "      <td>&lt;NA&gt;</td>\n",
       "    </tr>\n",
       "    <tr>\n",
       "      <th>mean</th>\n",
       "      <td>NaN</td>\n",
       "      <td>NaN</td>\n",
       "      <td>NaN</td>\n",
       "      <td>0 days 06:52:51.884236875</td>\n",
       "      <td>2018-06-23 22:53:20.411480064</td>\n",
       "      <td>NaN</td>\n",
       "      <td>NaN</td>\n",
       "      <td>4.45694</td>\n",
       "      <td>21.61319</td>\n",
       "      <td>559.009246</td>\n",
       "    </tr>\n",
       "    <tr>\n",
       "      <th>min</th>\n",
       "      <td>NaN</td>\n",
       "      <td>NaN</td>\n",
       "      <td>NaN</td>\n",
       "      <td>0 days 00:00:00</td>\n",
       "      <td>1998-12-27 00:00:00</td>\n",
       "      <td>NaN</td>\n",
       "      <td>NaN</td>\n",
       "      <td>1.0</td>\n",
       "      <td>1.0</td>\n",
       "      <td>0.0</td>\n",
       "    </tr>\n",
       "    <tr>\n",
       "      <th>25%</th>\n",
       "      <td>NaN</td>\n",
       "      <td>NaN</td>\n",
       "      <td>NaN</td>\n",
       "      <td>0 days 02:22:00</td>\n",
       "      <td>2016-09-06 00:00:00</td>\n",
       "      <td>NaN</td>\n",
       "      <td>NaN</td>\n",
       "      <td>4.0</td>\n",
       "      <td>1.0</td>\n",
       "      <td>268.0</td>\n",
       "    </tr>\n",
       "    <tr>\n",
       "      <th>50%</th>\n",
       "      <td>NaN</td>\n",
       "      <td>NaN</td>\n",
       "      <td>NaN</td>\n",
       "      <td>0 days 06:26:00</td>\n",
       "      <td>2020-02-06 00:00:00</td>\n",
       "      <td>NaN</td>\n",
       "      <td>NaN</td>\n",
       "      <td>4.5</td>\n",
       "      <td>2.0</td>\n",
       "      <td>585.0</td>\n",
       "    </tr>\n",
       "    <tr>\n",
       "      <th>75%</th>\n",
       "      <td>NaN</td>\n",
       "      <td>NaN</td>\n",
       "      <td>NaN</td>\n",
       "      <td>0 days 09:44:00</td>\n",
       "      <td>2021-08-17 00:00:00</td>\n",
       "      <td>NaN</td>\n",
       "      <td>NaN</td>\n",
       "      <td>5.0</td>\n",
       "      <td>7.0</td>\n",
       "      <td>755.0</td>\n",
       "    </tr>\n",
       "    <tr>\n",
       "      <th>max</th>\n",
       "      <td>NaN</td>\n",
       "      <td>NaN</td>\n",
       "      <td>NaN</td>\n",
       "      <td>5 days 23:15:00</td>\n",
       "      <td>2025-11-14 00:00:00</td>\n",
       "      <td>NaN</td>\n",
       "      <td>NaN</td>\n",
       "      <td>5.0</td>\n",
       "      <td>12573.0</td>\n",
       "      <td>7198.0</td>\n",
       "    </tr>\n",
       "    <tr>\n",
       "      <th>std</th>\n",
       "      <td>NaN</td>\n",
       "      <td>NaN</td>\n",
       "      <td>NaN</td>\n",
       "      <td>0 days 06:09:06.519584321</td>\n",
       "      <td>NaN</td>\n",
       "      <td>NaN</td>\n",
       "      <td>NaN</td>\n",
       "      <td>0.72394</td>\n",
       "      <td>207.479634</td>\n",
       "      <td>336.096642</td>\n",
       "    </tr>\n",
       "  </tbody>\n",
       "</table>\n",
       "</div>"
      ],
      "text/plain": [
       "                  Name       Author     Narrator                       Time  \\\n",
       "count            87489        87489        87489                      87489   \n",
       "unique           82767        48369        29703                        NaN   \n",
       "top     The Art of War  [矢島雅弘, 石橋遊]  [anonymous]                        NaN   \n",
       "freq                20          874         1034                        NaN   \n",
       "mean               NaN          NaN          NaN  0 days 06:52:51.884236875   \n",
       "min                NaN          NaN          NaN            0 days 00:00:00   \n",
       "25%                NaN          NaN          NaN            0 days 02:22:00   \n",
       "50%                NaN          NaN          NaN            0 days 06:26:00   \n",
       "75%                NaN          NaN          NaN            0 days 09:44:00   \n",
       "max                NaN          NaN          NaN            5 days 23:15:00   \n",
       "std                NaN          NaN          NaN  0 days 06:09:06.519584321   \n",
       "\n",
       "                         Release Date Language  Rated  Stars (Max: 5)  \\\n",
       "count                           87489    87489  87489         15072.0   \n",
       "unique                            NaN       36      2            <NA>   \n",
       "top                               NaN  English  False            <NA>   \n",
       "freq                              NaN    61884  72417            <NA>   \n",
       "mean    2018-06-23 22:53:20.411480064      NaN    NaN         4.45694   \n",
       "min               1998-12-27 00:00:00      NaN    NaN             1.0   \n",
       "25%               2016-09-06 00:00:00      NaN    NaN             4.0   \n",
       "50%               2020-02-06 00:00:00      NaN    NaN             4.5   \n",
       "75%               2021-08-17 00:00:00      NaN    NaN             5.0   \n",
       "max               2025-11-14 00:00:00      NaN    NaN             5.0   \n",
       "std                               NaN      NaN    NaN         0.72394   \n",
       "\n",
       "        Number Of Rating Response       Price  \n",
       "count                     15072.0     87489.0  \n",
       "unique                       <NA>        <NA>  \n",
       "top                          <NA>        <NA>  \n",
       "freq                         <NA>        <NA>  \n",
       "mean                     21.61319  559.009246  \n",
       "min                           1.0         0.0  \n",
       "25%                           1.0       268.0  \n",
       "50%                           2.0       585.0  \n",
       "75%                           7.0       755.0  \n",
       "max                       12573.0      7198.0  \n",
       "std                    207.479634  336.096642  "
      ]
     },
     "execution_count": 22,
     "metadata": {},
     "output_type": "execute_result"
    }
   ],
   "source": [
    "audible_data.describe(include='all')"
   ]
  },
  {
   "cell_type": "code",
   "execution_count": 23,
   "metadata": {
    "ExecuteTime": {
     "start_time": "2024-03-26T19:56:12.769180Z"
    },
    "is_executing": true
   },
   "outputs": [
    {
     "data": {
      "text/plain": [
       "Name                                  object\n",
       "Author                                object\n",
       "Narrator                              object\n",
       "Time                         timedelta64[ns]\n",
       "Release Date                  datetime64[ns]\n",
       "Language                              object\n",
       "Rated                                   bool\n",
       "Stars (Max: 5)                       Float64\n",
       "Number Of Rating Response              Int64\n",
       "Price                                Float64\n",
       "dtype: object"
      ]
     },
     "execution_count": 23,
     "metadata": {},
     "output_type": "execute_result"
    }
   ],
   "source": [
    "audible_data.dtypes"
   ]
  },
  {
   "cell_type": "markdown",
   "metadata": {},
   "source": [
    "## Dataset Characteristics"
   ]
  },
  {
   "cell_type": "markdown",
   "metadata": {},
   "source": [
    "### Features and Entries"
   ]
  },
  {
   "cell_type": "code",
   "execution_count": 24,
   "metadata": {},
   "outputs": [
    {
     "data": {
      "text/plain": [
       "(87489, 10)"
      ]
     },
     "execution_count": 24,
     "metadata": {},
     "output_type": "execute_result"
    }
   ],
   "source": [
    "audible_data.shape"
   ]
  },
  {
   "cell_type": "markdown",
   "metadata": {},
   "source": [
    "### Rated vs. Not Rated"
   ]
  },
  {
   "cell_type": "code",
   "execution_count": 25,
   "metadata": {},
   "outputs": [
    {
     "data": {
      "text/plain": [
       "(15072, 72417)"
      ]
     },
     "execution_count": 25,
     "metadata": {},
     "output_type": "execute_result"
    }
   ],
   "source": [
    "(audible_data['Rated'].sum(), (~audible_data['Rated']).sum())"
   ]
  },
  {
   "cell_type": "markdown",
   "metadata": {},
   "source": [
    "### Audiobook Lengths"
   ]
  },
  {
   "cell_type": "code",
   "execution_count": 26,
   "metadata": {},
   "outputs": [
    {
     "data": {
      "image/png": "[encoded data removed]",
      "text/plain": [
       "<Figure size 640x480 with 1 Axes>"
      ]
     },
     "metadata": {},
     "output_type": "display_data"
    }
   ],
   "source": [
    "sns.boxplot(x=audible_data['Time'].dt.total_seconds() / 60)\n",
    "plt.draw()"
   ]
  },
  {
   "cell_type": "markdown",
   "metadata": {},
   "source": [
    "### Audiobook Ratings"
   ]
  },
  {
   "cell_type": "code",
   "execution_count": 27,
   "metadata": {},
   "outputs": [
    {
     "data": {
      "image/png": "[encoded data removed]",
      "text/plain": [
       "<Figure size 640x480 with 1 Axes>"
      ]
     },
     "metadata": {},
     "output_type": "display_data"
    }
   ],
   "source": [
    "rated_audible_data = audible_data[audible_data['Rated'] == True]\n",
    "sns.boxplot(x=rated_audible_data['Stars (Max: 5)'])\n",
    "plt.draw()"
   ]
  },
  {
   "cell_type": "markdown",
   "metadata": {},
   "source": [
    "### Audiobook Prices"
   ]
  },
  {
   "cell_type": "code",
   "execution_count": 28,
   "metadata": {},
   "outputs": [
    {
     "data": {
      "image/png": "[encoded data removed]",
      "text/plain": [
       "<Figure size 640x480 with 1 Axes>"
      ]
     },
     "metadata": {},
     "output_type": "display_data"
    }
   ],
   "source": [
    "sns.boxplot(x=audible_data['Price'])\n",
    "plt.draw()"
   ]
  },
  {
   "cell_type": "markdown",
   "metadata": {},
   "source": [
    "### Conclusion"
   ]
  },
  {
   "cell_type": "markdown",
   "metadata": {},
   "source": [
    "* The dataset consists of 87489 entries and 10 features, with 15072 entries rated and 72417 not.  \n",
    "* The plot for Audiobook Lengths is skewed right, having most audiobooks under 1000 minutes. Several outliers indicate that some audiobooks are longer than the rest.  \n",
    "* The plot for Audiobook Ratings is heavily skewed left with few outliers.  \n",
    "* The plot for Audiobook Prices is skewed right, having most audiobook prices under 1000. Several outliers indicate that some audiobook prices fall into the range of 2000 to 4000, with a few higher than 4000."
   ]
  },
  {
   "cell_type": "markdown",
   "metadata": {},
   "source": [
    "## Audiobook Lengths vs. Ratings"
   ]
  },
  {
   "cell_type": "markdown",
   "metadata": {},
   "source": [
    "Null Hypothesis: There is no correlation between the length of audiobooks and their ratings.  \n",
    "Alternative Hypothesis: There is a correlation between the length of audiobooks and their ratings."
   ]
  },
  {
   "cell_type": "code",
   "execution_count": 29,
   "metadata": {},
   "outputs": [
    {
     "data": {
      "image/png": "[encoded data removed]",
      "text/plain": [
       "<Figure size 640x480 with 1 Axes>"
      ]
     },
     "metadata": {},
     "output_type": "display_data"
    }
   ],
   "source": [
    "time_in_minutes = rated_audible_data['Time'].dt.total_seconds() / 60\n",
    "sns.scatterplot(x=time_in_minutes, y=rated_audible_data['Stars (Max: 5)'])\n",
    "plt.draw()"
   ]
  },
  {
   "cell_type": "markdown",
   "metadata": {},
   "source": [
    "### T Test"
   ]
  },
  {
   "cell_type": "code",
   "execution_count": 30,
   "metadata": {},
   "outputs": [
    {
     "data": {
      "text/plain": [
       "0.06414265721241272"
      ]
     },
     "execution_count": 30,
     "metadata": {},
     "output_type": "execute_result"
    }
   ],
   "source": [
    "time_in_minutes_median = time_in_minutes.median()\n",
    "_, p_value = ttest_ind(\n",
    "    rated_audible_data[time_in_minutes < time_in_minutes_median]['Stars (Max: 5)'],\n",
    "    rated_audible_data[time_in_minutes >= time_in_minutes_median]['Stars (Max: 5)'],\n",
    "    equal_var=False\n",
    ")\n",
    "p_value"
   ]
  },
  {
   "cell_type": "markdown",
   "metadata": {},
   "source": [
    "### Conclusion"
   ]
  },
  {
   "cell_type": "markdown",
   "metadata": {},
   "source": [
    "Suppose the significance level (alpha) is 0.05, and the p-value is 0.0641, which is greater than alpha.  \n",
    "Therefore, we fail to reject the null hypothesis. That is, there is no correlation between the length of audiobooks and their ratings."
   ]
  },
  {
   "cell_type": "markdown",
   "metadata": {},
   "source": [
    "## Audiobook Ratings vs. Prices"
   ]
  },
  {
   "cell_type": "markdown",
   "metadata": {},
   "source": [
    "Null Hypothesis: There is no correlation between the rating of audiobooks and their prices.  \n",
    "Alternative Hypothesis: There is a correlation between the rating of audiobooks and their prices."
   ]
  },
  {
   "cell_type": "code",
   "execution_count": 31,
   "metadata": {},
   "outputs": [
    {
     "data": {
      "image/png": "[encoded data removed]",
      "text/plain": [
       "<Figure size 640x480 with 1 Axes>"
      ]
     },
     "metadata": {},
     "output_type": "display_data"
    }
   ],
   "source": [
    "sns.scatterplot(x=rated_audible_data['Stars (Max: 5)'], y=rated_audible_data['Price'])\n",
    "plt.draw()"
   ]
  },
  {
   "cell_type": "markdown",
   "metadata": {},
   "source": [
    "### T Test"
   ]
  },
  {
   "cell_type": "code",
   "execution_count": 32,
   "metadata": {},
   "outputs": [
    {
     "data": {
      "text/plain": [
       "0.00012565631566774675"
      ]
     },
     "execution_count": 32,
     "metadata": {},
     "output_type": "execute_result"
    }
   ],
   "source": [
    "rating_mean = rated_audible_data['Stars (Max: 5)'].mean()\n",
    "_, p_value = ttest_ind(\n",
    "    rated_audible_data[rated_audible_data['Stars (Max: 5)'] < rating_mean]['Price'],\n",
    "    rated_audible_data[rated_audible_data['Stars (Max: 5)'] >= rating_mean]['Price'],\n",
    "    equal_var=False\n",
    ")\n",
    "p_value"
   ]
  },
  {
   "cell_type": "markdown",
   "metadata": {},
   "source": [
    "### Conclusion"
   ]
  },
  {
   "cell_type": "markdown",
   "metadata": {},
   "source": [
    "Suppose the significance level (alpha) is 0.05, and the p-value is 0.000126, which is less than alpha.  \n",
    "Therefore, we reject the null hypothesis. That is, there is a correlation between the rating of audiobooks and their prices."
   ]
  }
 ],
 "metadata": {
  "kernelspec": {
   "display_name": "Python 3",
   "language": "python",
   "name": "python3"
  },
  "language_info": {
   "codemirror_mode": {
    "name": "ipython",
    "version": 3
   },
   "file_extension": ".py",
   "mimetype": "text/x-python",
   "name": "python",
   "nbconvert_exporter": "python",
   "pygments_lexer": "ipython3",
   "version": "3.12.3"
  }
 },
 "nbformat": 4,
 "nbformat_minor": 2
}
