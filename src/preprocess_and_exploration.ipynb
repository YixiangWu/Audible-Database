{
 "cells": [
  {
   "cell_type": "code",
   "execution_count": 1,
   "metadata": {
    "ExecuteTime": {
     "end_time": "2024-05-07T07:54:41.481899Z",
     "start_time": "2024-05-07T07:54:41.476774Z"
    }
   },
   "outputs": [],
   "source": [
    "import matplotlib.pyplot as plt\n",
    "import numpy as np\n",
    "import pandas as pd\n",
    "import re\n",
    "import seaborn as sns\n",
    "\n",
    "from datetime import timedelta\n",
    "from scipy.stats import ttest_ind\n",
    "\n",
    "from preprocess_and_exploration import data_folder"
   ]
  },
  {
   "cell_type": "markdown",
   "metadata": {},
   "source": [
    "# Data Preprocess"
   ]
  },
  {
   "cell_type": "markdown",
   "metadata": {},
   "source": [
    "## Load Dataset"
   ]
  },
  {
   "cell_type": "code",
   "execution_count": 2,
   "metadata": {
    "ExecuteTime": {
     "end_time": "2024-05-07T07:54:41.731353Z",
     "start_time": "2024-05-07T07:54:41.623728Z"
    }
   },
   "outputs": [
    {
     "data": {
      "text/html": [
       "<div>\n",
       "<style scoped>\n",
       "    .dataframe tbody tr th:only-of-type {\n",
       "        vertical-align: middle;\n",
       "    }\n",
       "\n",
       "    .dataframe tbody tr th {\n",
       "        vertical-align: top;\n",
       "    }\n",
       "\n",
       "    .dataframe thead th {\n",
       "        text-align: right;\n",
       "    }\n",
       "</style>\n",
       "<table border=\"1\" class=\"dataframe\">\n",
       "  <thead>\n",
       "    <tr style=\"text-align: right;\">\n",
       "      <th></th>\n",
       "      <th>name</th>\n",
       "      <th>author</th>\n",
       "      <th>narrator</th>\n",
       "      <th>time</th>\n",
       "      <th>releasedate</th>\n",
       "      <th>language</th>\n",
       "      <th>stars</th>\n",
       "      <th>price</th>\n",
       "    </tr>\n",
       "  </thead>\n",
       "  <tbody>\n",
       "    <tr>\n",
       "      <th>0</th>\n",
       "      <td>At Home</td>\n",
       "      <td>By: Bill Bryson</td>\n",
       "      <td>Narrated by: Bill Bryson</td>\n",
       "      <td>16 hrs and 33 mins</td>\n",
       "      <td>Release date: 10-05-10</td>\n",
       "      <td>English</td>\n",
       "      <td>4.5 out of 5 stars6,439 ratings</td>\n",
       "      <td>22.50</td>\n",
       "    </tr>\n",
       "    <tr>\n",
       "      <th>1</th>\n",
       "      <td>Preserved</td>\n",
       "      <td>By: Dean G. Lampros</td>\n",
       "      <td>Narrated by: Al Kessel</td>\n",
       "      <td>11 hrs and 10 mins</td>\n",
       "      <td>Release date: 03-26-24</td>\n",
       "      <td>English</td>\n",
       "      <td>Not rated yet</td>\n",
       "      <td>21.49</td>\n",
       "    </tr>\n",
       "    <tr>\n",
       "      <th>2</th>\n",
       "      <td>Venice</td>\n",
       "      <td>By: Dennis Romano</td>\n",
       "      <td>Narrated by: David Colacci</td>\n",
       "      <td>30 hrs and 45 mins</td>\n",
       "      <td>Release date: 02-27-24</td>\n",
       "      <td>English</td>\n",
       "      <td>4 out of 5 stars4 ratings</td>\n",
       "      <td>30.09</td>\n",
       "    </tr>\n",
       "    <tr>\n",
       "      <th>3</th>\n",
       "      <td>Elevating Construction Senior Superintendents,...</td>\n",
       "      <td>By: Jason Schroeder</td>\n",
       "      <td>Narrated by: Kate Schroeder</td>\n",
       "      <td>7 hrs and 24 mins</td>\n",
       "      <td>Release date: 03-08-24</td>\n",
       "      <td>English</td>\n",
       "      <td>Not rated yet</td>\n",
       "      <td>14.99</td>\n",
       "    </tr>\n",
       "    <tr>\n",
       "      <th>4</th>\n",
       "      <td>Castles</td>\n",
       "      <td>By: Marc Morris</td>\n",
       "      <td>Narrated by: Derek Perkins</td>\n",
       "      <td>9 hrs and 18 mins</td>\n",
       "      <td>Release date: 04-04-17</td>\n",
       "      <td>English</td>\n",
       "      <td>4.5 out of 5 stars64 ratings</td>\n",
       "      <td>15.47</td>\n",
       "    </tr>\n",
       "  </tbody>\n",
       "</table>\n",
       "</div>"
      ],
      "text/plain": [
       "                                                name               author  \\\n",
       "0                                            At Home      By: Bill Bryson   \n",
       "1                                          Preserved  By: Dean G. Lampros   \n",
       "2                                             Venice    By: Dennis Romano   \n",
       "3  Elevating Construction Senior Superintendents,...  By: Jason Schroeder   \n",
       "4                                            Castles      By: Marc Morris   \n",
       "\n",
       "                      narrator                time             releasedate  \\\n",
       "0     Narrated by: Bill Bryson  16 hrs and 33 mins  Release date: 10-05-10   \n",
       "1       Narrated by: Al Kessel  11 hrs and 10 mins  Release date: 03-26-24   \n",
       "2   Narrated by: David Colacci  30 hrs and 45 mins  Release date: 02-27-24   \n",
       "3  Narrated by: Kate Schroeder   7 hrs and 24 mins  Release date: 03-08-24   \n",
       "4   Narrated by: Derek Perkins   9 hrs and 18 mins  Release date: 04-04-17   \n",
       "\n",
       "  language                            stars  price  \n",
       "0  English  4.5 out of 5 stars6,439 ratings  22.50  \n",
       "1  English                    Not rated yet  21.49  \n",
       "2  English        4 out of 5 stars4 ratings  30.09  \n",
       "3  English                    Not rated yet  14.99  \n",
       "4  English     4.5 out of 5 stars64 ratings  15.47  "
      ]
     },
     "execution_count": 2,
     "metadata": {},
     "output_type": "execute_result"
    }
   ],
   "source": [
    "audible_data = pd.read_csv(data_folder + '/audible_uncleaned.csv')\n",
    "audible_data.head()"
   ]
  },
  {
   "cell_type": "code",
   "execution_count": 3,
   "metadata": {
    "ExecuteTime": {
     "end_time": "2024-05-07T07:54:41.737877Z",
     "start_time": "2024-05-07T07:54:41.732794Z"
    }
   },
   "outputs": [
    {
     "data": {
      "text/html": [
       "<div>\n",
       "<style scoped>\n",
       "    .dataframe tbody tr th:only-of-type {\n",
       "        vertical-align: middle;\n",
       "    }\n",
       "\n",
       "    .dataframe tbody tr th {\n",
       "        vertical-align: top;\n",
       "    }\n",
       "\n",
       "    .dataframe thead th {\n",
       "        text-align: right;\n",
       "    }\n",
       "</style>\n",
       "<table border=\"1\" class=\"dataframe\">\n",
       "  <thead>\n",
       "    <tr style=\"text-align: right;\">\n",
       "      <th></th>\n",
       "      <th>Name</th>\n",
       "      <th>Author</th>\n",
       "      <th>Narrator</th>\n",
       "      <th>Time</th>\n",
       "      <th>Release Date</th>\n",
       "      <th>Language</th>\n",
       "      <th>Stars</th>\n",
       "      <th>Price</th>\n",
       "    </tr>\n",
       "  </thead>\n",
       "  <tbody>\n",
       "    <tr>\n",
       "      <th>0</th>\n",
       "      <td>At Home</td>\n",
       "      <td>By: Bill Bryson</td>\n",
       "      <td>Narrated by: Bill Bryson</td>\n",
       "      <td>16 hrs and 33 mins</td>\n",
       "      <td>Release date: 10-05-10</td>\n",
       "      <td>English</td>\n",
       "      <td>4.5 out of 5 stars6,439 ratings</td>\n",
       "      <td>22.50</td>\n",
       "    </tr>\n",
       "    <tr>\n",
       "      <th>1</th>\n",
       "      <td>Preserved</td>\n",
       "      <td>By: Dean G. Lampros</td>\n",
       "      <td>Narrated by: Al Kessel</td>\n",
       "      <td>11 hrs and 10 mins</td>\n",
       "      <td>Release date: 03-26-24</td>\n",
       "      <td>English</td>\n",
       "      <td>Not rated yet</td>\n",
       "      <td>21.49</td>\n",
       "    </tr>\n",
       "    <tr>\n",
       "      <th>2</th>\n",
       "      <td>Venice</td>\n",
       "      <td>By: Dennis Romano</td>\n",
       "      <td>Narrated by: David Colacci</td>\n",
       "      <td>30 hrs and 45 mins</td>\n",
       "      <td>Release date: 02-27-24</td>\n",
       "      <td>English</td>\n",
       "      <td>4 out of 5 stars4 ratings</td>\n",
       "      <td>30.09</td>\n",
       "    </tr>\n",
       "    <tr>\n",
       "      <th>3</th>\n",
       "      <td>Elevating Construction Senior Superintendents,...</td>\n",
       "      <td>By: Jason Schroeder</td>\n",
       "      <td>Narrated by: Kate Schroeder</td>\n",
       "      <td>7 hrs and 24 mins</td>\n",
       "      <td>Release date: 03-08-24</td>\n",
       "      <td>English</td>\n",
       "      <td>Not rated yet</td>\n",
       "      <td>14.99</td>\n",
       "    </tr>\n",
       "    <tr>\n",
       "      <th>4</th>\n",
       "      <td>Castles</td>\n",
       "      <td>By: Marc Morris</td>\n",
       "      <td>Narrated by: Derek Perkins</td>\n",
       "      <td>9 hrs and 18 mins</td>\n",
       "      <td>Release date: 04-04-17</td>\n",
       "      <td>English</td>\n",
       "      <td>4.5 out of 5 stars64 ratings</td>\n",
       "      <td>15.47</td>\n",
       "    </tr>\n",
       "  </tbody>\n",
       "</table>\n",
       "</div>"
      ],
      "text/plain": [
       "                                                Name               Author  \\\n",
       "0                                            At Home      By: Bill Bryson   \n",
       "1                                          Preserved  By: Dean G. Lampros   \n",
       "2                                             Venice    By: Dennis Romano   \n",
       "3  Elevating Construction Senior Superintendents,...  By: Jason Schroeder   \n",
       "4                                            Castles      By: Marc Morris   \n",
       "\n",
       "                      Narrator                Time            Release Date  \\\n",
       "0     Narrated by: Bill Bryson  16 hrs and 33 mins  Release date: 10-05-10   \n",
       "1       Narrated by: Al Kessel  11 hrs and 10 mins  Release date: 03-26-24   \n",
       "2   Narrated by: David Colacci  30 hrs and 45 mins  Release date: 02-27-24   \n",
       "3  Narrated by: Kate Schroeder   7 hrs and 24 mins  Release date: 03-08-24   \n",
       "4   Narrated by: Derek Perkins   9 hrs and 18 mins  Release date: 04-04-17   \n",
       "\n",
       "  Language                            Stars  Price  \n",
       "0  English  4.5 out of 5 stars6,439 ratings  22.50  \n",
       "1  English                    Not rated yet  21.49  \n",
       "2  English        4 out of 5 stars4 ratings  30.09  \n",
       "3  English                    Not rated yet  14.99  \n",
       "4  English     4.5 out of 5 stars64 ratings  15.47  "
      ]
     },
     "execution_count": 3,
     "metadata": {},
     "output_type": "execute_result"
    }
   ],
   "source": [
    "audible_data.rename(columns={'releasedate': 'release date'}, inplace=True)\n",
    "audible_data.rename(str.title, axis='columns', inplace=True)\n",
    "audible_data.head()"
   ]
  },
  {
   "cell_type": "code",
   "execution_count": 4,
   "metadata": {
    "ExecuteTime": {
     "end_time": "2024-05-07T07:54:41.794385Z",
     "start_time": "2024-05-07T07:54:41.739346Z"
    }
   },
   "outputs": [
    {
     "data": {
      "text/html": [
       "<div>\n",
       "<style scoped>\n",
       "    .dataframe tbody tr th:only-of-type {\n",
       "        vertical-align: middle;\n",
       "    }\n",
       "\n",
       "    .dataframe tbody tr th {\n",
       "        vertical-align: top;\n",
       "    }\n",
       "\n",
       "    .dataframe thead th {\n",
       "        text-align: right;\n",
       "    }\n",
       "</style>\n",
       "<table border=\"1\" class=\"dataframe\">\n",
       "  <thead>\n",
       "    <tr style=\"text-align: right;\">\n",
       "      <th></th>\n",
       "      <th>Name</th>\n",
       "      <th>Author</th>\n",
       "      <th>Narrator</th>\n",
       "      <th>Time</th>\n",
       "      <th>Release Date</th>\n",
       "      <th>Language</th>\n",
       "      <th>Stars</th>\n",
       "      <th>Price</th>\n",
       "    </tr>\n",
       "  </thead>\n",
       "  <tbody>\n",
       "    <tr>\n",
       "      <th>count</th>\n",
       "      <td>55235</td>\n",
       "      <td>55235</td>\n",
       "      <td>54749</td>\n",
       "      <td>55235</td>\n",
       "      <td>55235</td>\n",
       "      <td>55235</td>\n",
       "      <td>55235</td>\n",
       "      <td>55235</td>\n",
       "    </tr>\n",
       "    <tr>\n",
       "      <th>unique</th>\n",
       "      <td>52841</td>\n",
       "      <td>33933</td>\n",
       "      <td>19776</td>\n",
       "      <td>2351</td>\n",
       "      <td>5314</td>\n",
       "      <td>23</td>\n",
       "      <td>6736</td>\n",
       "      <td>1429</td>\n",
       "    </tr>\n",
       "    <tr>\n",
       "      <th>top</th>\n",
       "      <td>The Odyssey</td>\n",
       "      <td>By: Barrett Williams</td>\n",
       "      <td>Narrated by: Virtual Voice</td>\n",
       "      <td>4 mins</td>\n",
       "      <td>Release date: 04-21-24</td>\n",
       "      <td>English</td>\n",
       "      <td>Not rated yet</td>\n",
       "      <td>Free</td>\n",
       "    </tr>\n",
       "    <tr>\n",
       "      <th>freq</th>\n",
       "      <td>15</td>\n",
       "      <td>467</td>\n",
       "      <td>2823</td>\n",
       "      <td>172</td>\n",
       "      <td>353</td>\n",
       "      <td>52877</td>\n",
       "      <td>9202</td>\n",
       "      <td>11319</td>\n",
       "    </tr>\n",
       "  </tbody>\n",
       "</table>\n",
       "</div>"
      ],
      "text/plain": [
       "               Name                Author                    Narrator    Time  \\\n",
       "count         55235                 55235                       54749   55235   \n",
       "unique        52841                 33933                       19776    2351   \n",
       "top     The Odyssey  By: Barrett Williams  Narrated by: Virtual Voice  4 mins   \n",
       "freq             15                   467                        2823     172   \n",
       "\n",
       "                  Release Date Language          Stars  Price  \n",
       "count                    55235    55235          55235  55235  \n",
       "unique                    5314       23           6736   1429  \n",
       "top     Release date: 04-21-24  English  Not rated yet   Free  \n",
       "freq                       353    52877           9202  11319  "
      ]
     },
     "execution_count": 4,
     "metadata": {},
     "output_type": "execute_result"
    }
   ],
   "source": [
    "audible_data.describe(include='all')"
   ]
  },
  {
   "cell_type": "code",
   "execution_count": 5,
   "metadata": {
    "ExecuteTime": {
     "end_time": "2024-05-07T07:54:41.798760Z",
     "start_time": "2024-05-07T07:54:41.795968Z"
    }
   },
   "outputs": [
    {
     "data": {
      "text/plain": [
       "Name            object\n",
       "Author          object\n",
       "Narrator        object\n",
       "Time            object\n",
       "Release Date    object\n",
       "Language        object\n",
       "Stars           object\n",
       "Price           object\n",
       "dtype: object"
      ]
     },
     "execution_count": 5,
     "metadata": {},
     "output_type": "execute_result"
    }
   ],
   "source": [
    "audible_data.dtypes"
   ]
  },
  {
   "cell_type": "markdown",
   "metadata": {},
   "source": [
    "## Author Column Preprocess"
   ]
  },
  {
   "cell_type": "markdown",
   "metadata": {},
   "source": [
    "### Strip \"By: \""
   ]
  },
  {
   "cell_type": "code",
   "execution_count": 6,
   "metadata": {
    "ExecuteTime": {
     "end_time": "2024-05-07T07:54:41.822727Z",
     "start_time": "2024-05-07T07:54:41.799857Z"
    },
    "collapsed": false
   },
   "outputs": [
    {
     "data": {
      "text/plain": [
       "0        Bill Bryson\n",
       "1    Dean G. Lampros\n",
       "2      Dennis Romano\n",
       "3    Jason Schroeder\n",
       "4        Marc Morris\n",
       "Name: Author, dtype: object"
      ]
     },
     "execution_count": 6,
     "metadata": {},
     "output_type": "execute_result"
    }
   ],
   "source": [
    "audible_data['Author'] = audible_data['Author'].str.replace('\"', '').str.replace('By: ', '').str.strip()\n",
    "audible_data['Author'].head()"
   ]
  },
  {
   "cell_type": "markdown",
   "metadata": {},
   "source": [
    "## Narrator Column Preprocess"
   ]
  },
  {
   "cell_type": "markdown",
   "metadata": {},
   "source": [
    "### Strip \"Narrated by: \""
   ]
  },
  {
   "cell_type": "code",
   "execution_count": 7,
   "metadata": {
    "ExecuteTime": {
     "end_time": "2024-05-07T07:54:41.847412Z",
     "start_time": "2024-05-07T07:54:41.823565Z"
    }
   },
   "outputs": [
    {
     "data": {
      "text/plain": [
       "0       Bill Bryson\n",
       "1         Al Kessel\n",
       "2     David Colacci\n",
       "3    Kate Schroeder\n",
       "4     Derek Perkins\n",
       "Name: Narrator, dtype: object"
      ]
     },
     "execution_count": 7,
     "metadata": {},
     "output_type": "execute_result"
    }
   ],
   "source": [
    "audible_data['Narrator'] = audible_data['Narrator'].str.replace('\"', '').str.replace('Narrated by: ', '').str.strip()\n",
    "audible_data['Narrator'].head()"
   ]
  },
  {
   "cell_type": "markdown",
   "metadata": {},
   "source": [
    "## Time Column Preprocess"
   ]
  },
  {
   "cell_type": "markdown",
   "metadata": {},
   "source": [
    "### Convert Time To Timedelta"
   ]
  },
  {
   "cell_type": "code",
   "execution_count": 8,
   "metadata": {
    "ExecuteTime": {
     "end_time": "2024-05-07T07:54:41.994949Z",
     "start_time": "2024-05-07T07:54:41.848250Z"
    }
   },
   "outputs": [
    {
     "data": {
      "text/plain": [
       "0   0 days 16:33:00\n",
       "1   0 days 11:10:00\n",
       "2   1 days 06:45:00\n",
       "3   0 days 07:24:00\n",
       "4   0 days 09:18:00\n",
       "Name: Time, dtype: timedelta64[ns]"
      ]
     },
     "execution_count": 8,
     "metadata": {},
     "output_type": "execute_result"
    }
   ],
   "source": [
    "def convert_to_timedelta(time_string):\n",
    "    hours_match = re.search(r'(\\d+)\\s*hrs', time_string)\n",
    "    minutes_match = re.search(r'(\\d+)\\s*mins', time_string)\n",
    "    return timedelta(\n",
    "        hours=int(hours_match.group(1)) if hours_match else 0,\n",
    "        minutes=int(minutes_match.group(1)) if minutes_match else 0\n",
    "    )\n",
    "\n",
    "audible_data['Time'] = audible_data['Time'].apply(convert_to_timedelta)\n",
    "audible_data['Time'].head()"
   ]
  },
  {
   "cell_type": "markdown",
   "metadata": {},
   "source": [
    "## Release Date Column Preprocess"
   ]
  },
  {
   "cell_type": "markdown",
   "metadata": {},
   "source": [
    "### Convert Release Date To Datetime"
   ]
  },
  {
   "cell_type": "code",
   "execution_count": 9,
   "metadata": {
    "ExecuteTime": {
     "end_time": "2024-05-07T07:54:42.080442Z",
     "start_time": "2024-05-07T07:54:41.995611Z"
    }
   },
   "outputs": [
    {
     "data": {
      "text/plain": [
       "0   2010-10-05\n",
       "1   2024-03-26\n",
       "2   2024-02-27\n",
       "3   2024-03-08\n",
       "4   2017-04-04\n",
       "Name: Release Date, dtype: datetime64[ns]"
      ]
     },
     "execution_count": 9,
     "metadata": {},
     "output_type": "execute_result"
    }
   ],
   "source": [
    "audible_data['Release Date'] = audible_data['Release Date'].str.replace('\"', '').str.replace('Release date:', '').str.strip()\n",
    "audible_data['Release Date'] = pd.to_datetime(audible_data['Release Date'], format='%m-%d-%y')\n",
    "audible_data['Release Date'].head()"
   ]
  },
  {
   "cell_type": "markdown",
   "metadata": {},
   "source": [
    "## Language Column Preprocess"
   ]
  },
  {
   "cell_type": "code",
   "execution_count": 10,
   "metadata": {
    "ExecuteTime": {
     "end_time": "2024-05-07T07:54:42.102187Z",
     "start_time": "2024-05-07T07:54:42.081194Z"
    }
   },
   "outputs": [
    {
     "data": {
      "text/plain": [
       "Language\n",
       "English               52877\n",
       "Spanish                1204\n",
       "German                  510\n",
       "French                  190\n",
       "Italian                 162\n",
       "Portuguese               89\n",
       "Russian                  85\n",
       "Japanese                 43\n",
       "Danish                   18\n",
       "Hindi                     9\n",
       "Polish                    9\n",
       "Mandarin Chinese          7\n",
       "Arabic                    5\n",
       "Swedish                   5\n",
       "Afrikaans                 5\n",
       "Dutch                     5\n",
       "Hungarian                 3\n",
       "Catalan                   2\n",
       "Ukrainian                 2\n",
       "Czech                     2\n",
       "Turkish                   1\n",
       "Simplified Chinese        1\n",
       "Hebrew                    1\n",
       "Name: count, dtype: int64"
      ]
     },
     "execution_count": 10,
     "metadata": {},
     "output_type": "execute_result"
    }
   ],
   "source": [
    "audible_data['Language'] = audible_data['Language'].str.replace('\"', '').str.strip().str.title()\n",
    "audible_data['Language'].value_counts()"
   ]
  },
  {
   "cell_type": "markdown",
   "metadata": {},
   "source": [
    "## Stars Column Preprocess"
   ]
  },
  {
   "cell_type": "markdown",
   "metadata": {},
   "source": [
    "### Examine Rated Or Not"
   ]
  },
  {
   "cell_type": "code",
   "execution_count": 11,
   "metadata": {
    "ExecuteTime": {
     "end_time": "2024-05-07T07:54:42.123391Z",
     "start_time": "2024-05-07T07:54:42.104417Z"
    }
   },
   "outputs": [],
   "source": [
    "audible_data['Stars'] = audible_data['Stars'].replace('\"', '').str.strip()\n",
    "audible_data['Rated'] = ~audible_data['Stars'].str.contains('Not rated yet')"
   ]
  },
  {
   "cell_type": "code",
   "execution_count": 12,
   "metadata": {
    "ExecuteTime": {
     "end_time": "2024-05-07T07:54:42.129704Z",
     "start_time": "2024-05-07T07:54:42.124557Z"
    }
   },
   "outputs": [
    {
     "data": {
      "text/html": [
       "<div>\n",
       "<style scoped>\n",
       "    .dataframe tbody tr th:only-of-type {\n",
       "        vertical-align: middle;\n",
       "    }\n",
       "\n",
       "    .dataframe tbody tr th {\n",
       "        vertical-align: top;\n",
       "    }\n",
       "\n",
       "    .dataframe thead th {\n",
       "        text-align: right;\n",
       "    }\n",
       "</style>\n",
       "<table border=\"1\" class=\"dataframe\">\n",
       "  <thead>\n",
       "    <tr style=\"text-align: right;\">\n",
       "      <th></th>\n",
       "      <th>Rated</th>\n",
       "      <th>Stars</th>\n",
       "    </tr>\n",
       "  </thead>\n",
       "  <tbody>\n",
       "    <tr>\n",
       "      <th>0</th>\n",
       "      <td>True</td>\n",
       "      <td>4.5 out of 5 stars6,439 ratings</td>\n",
       "    </tr>\n",
       "    <tr>\n",
       "      <th>2</th>\n",
       "      <td>True</td>\n",
       "      <td>4 out of 5 stars4 ratings</td>\n",
       "    </tr>\n",
       "    <tr>\n",
       "      <th>4</th>\n",
       "      <td>True</td>\n",
       "      <td>4.5 out of 5 stars64 ratings</td>\n",
       "    </tr>\n",
       "    <tr>\n",
       "      <th>5</th>\n",
       "      <td>True</td>\n",
       "      <td>5 out of 5 stars2 ratings</td>\n",
       "    </tr>\n",
       "    <tr>\n",
       "      <th>6</th>\n",
       "      <td>True</td>\n",
       "      <td>4.5 out of 5 stars188 ratings</td>\n",
       "    </tr>\n",
       "  </tbody>\n",
       "</table>\n",
       "</div>"
      ],
      "text/plain": [
       "   Rated                            Stars\n",
       "0   True  4.5 out of 5 stars6,439 ratings\n",
       "2   True        4 out of 5 stars4 ratings\n",
       "4   True     4.5 out of 5 stars64 ratings\n",
       "5   True        5 out of 5 stars2 ratings\n",
       "6   True    4.5 out of 5 stars188 ratings"
      ]
     },
     "execution_count": 12,
     "metadata": {},
     "output_type": "execute_result"
    }
   ],
   "source": [
    "audible_data.loc[audible_data['Rated'] == True, ['Rated', 'Stars']].head()"
   ]
  },
  {
   "cell_type": "code",
   "execution_count": 13,
   "metadata": {
    "ExecuteTime": {
     "end_time": "2024-05-07T07:54:42.135459Z",
     "start_time": "2024-05-07T07:54:42.130760Z"
    }
   },
   "outputs": [
    {
     "data": {
      "text/html": [
       "<div>\n",
       "<style scoped>\n",
       "    .dataframe tbody tr th:only-of-type {\n",
       "        vertical-align: middle;\n",
       "    }\n",
       "\n",
       "    .dataframe tbody tr th {\n",
       "        vertical-align: top;\n",
       "    }\n",
       "\n",
       "    .dataframe thead th {\n",
       "        text-align: right;\n",
       "    }\n",
       "</style>\n",
       "<table border=\"1\" class=\"dataframe\">\n",
       "  <thead>\n",
       "    <tr style=\"text-align: right;\">\n",
       "      <th></th>\n",
       "      <th>Rated</th>\n",
       "      <th>Stars</th>\n",
       "    </tr>\n",
       "  </thead>\n",
       "  <tbody>\n",
       "    <tr>\n",
       "      <th>1</th>\n",
       "      <td>False</td>\n",
       "      <td>Not rated yet</td>\n",
       "    </tr>\n",
       "    <tr>\n",
       "      <th>3</th>\n",
       "      <td>False</td>\n",
       "      <td>Not rated yet</td>\n",
       "    </tr>\n",
       "    <tr>\n",
       "      <th>11</th>\n",
       "      <td>False</td>\n",
       "      <td>Not rated yet</td>\n",
       "    </tr>\n",
       "    <tr>\n",
       "      <th>20</th>\n",
       "      <td>False</td>\n",
       "      <td>Not rated yet</td>\n",
       "    </tr>\n",
       "    <tr>\n",
       "      <th>22</th>\n",
       "      <td>False</td>\n",
       "      <td>Not rated yet</td>\n",
       "    </tr>\n",
       "  </tbody>\n",
       "</table>\n",
       "</div>"
      ],
      "text/plain": [
       "    Rated          Stars\n",
       "1   False  Not rated yet\n",
       "3   False  Not rated yet\n",
       "11  False  Not rated yet\n",
       "20  False  Not rated yet\n",
       "22  False  Not rated yet"
      ]
     },
     "execution_count": 13,
     "metadata": {},
     "output_type": "execute_result"
    }
   ],
   "source": [
    "audible_data.loc[audible_data['Rated'] == False, ['Rated', 'Stars']].head()"
   ]
  },
  {
   "cell_type": "markdown",
   "metadata": {},
   "source": [
    "### Extract Rating From Stars"
   ]
  },
  {
   "cell_type": "code",
   "execution_count": 14,
   "metadata": {
    "ExecuteTime": {
     "end_time": "2024-05-07T07:54:42.749467Z",
     "start_time": "2024-05-07T07:54:42.136179Z"
    }
   },
   "outputs": [],
   "source": [
    "audible_data['Stars'] = audible_data['Stars'].str.replace(',', '')\n",
    "extract = lambda cast, row, regex, group_num : cast(re.search(regex, row['Stars']).group(group_num)) if row['Rated'] else np.nan\n",
    "audible_data['Number Of Rating Response'] = audible_data.apply(lambda row: extract(int, row, r'stars(\\d+) rating', 1), axis=1).astype('Int64')\n",
    "audible_data['Stars'] = audible_data.apply(lambda row: extract(float, row, r'(\\d+(\\.\\d+)?) out of', 1), axis=1).astype('Float64')\n",
    "audible_data = audible_data[list(audible_data.columns)[:-4] + ['Rated', 'Stars', 'Number Of Rating Response', 'Price']]\n",
    "audible_data.rename(columns={'Stars': 'Stars (Max: 5)'}, inplace=True)"
   ]
  },
  {
   "cell_type": "code",
   "execution_count": 15,
   "metadata": {
    "ExecuteTime": {
     "end_time": "2024-05-07T07:54:42.755308Z",
     "start_time": "2024-05-07T07:54:42.750179Z"
    }
   },
   "outputs": [
    {
     "data": {
      "text/html": [
       "<div>\n",
       "<style scoped>\n",
       "    .dataframe tbody tr th:only-of-type {\n",
       "        vertical-align: middle;\n",
       "    }\n",
       "\n",
       "    .dataframe tbody tr th {\n",
       "        vertical-align: top;\n",
       "    }\n",
       "\n",
       "    .dataframe thead th {\n",
       "        text-align: right;\n",
       "    }\n",
       "</style>\n",
       "<table border=\"1\" class=\"dataframe\">\n",
       "  <thead>\n",
       "    <tr style=\"text-align: right;\">\n",
       "      <th></th>\n",
       "      <th>Rated</th>\n",
       "      <th>Stars (Max: 5)</th>\n",
       "      <th>Number Of Rating Response</th>\n",
       "    </tr>\n",
       "  </thead>\n",
       "  <tbody>\n",
       "    <tr>\n",
       "      <th>0</th>\n",
       "      <td>True</td>\n",
       "      <td>4.5</td>\n",
       "      <td>6439</td>\n",
       "    </tr>\n",
       "    <tr>\n",
       "      <th>2</th>\n",
       "      <td>True</td>\n",
       "      <td>4.0</td>\n",
       "      <td>4</td>\n",
       "    </tr>\n",
       "    <tr>\n",
       "      <th>4</th>\n",
       "      <td>True</td>\n",
       "      <td>4.5</td>\n",
       "      <td>64</td>\n",
       "    </tr>\n",
       "    <tr>\n",
       "      <th>5</th>\n",
       "      <td>True</td>\n",
       "      <td>5.0</td>\n",
       "      <td>2</td>\n",
       "    </tr>\n",
       "    <tr>\n",
       "      <th>6</th>\n",
       "      <td>True</td>\n",
       "      <td>4.5</td>\n",
       "      <td>188</td>\n",
       "    </tr>\n",
       "  </tbody>\n",
       "</table>\n",
       "</div>"
      ],
      "text/plain": [
       "   Rated  Stars (Max: 5)  Number Of Rating Response\n",
       "0   True             4.5                       6439\n",
       "2   True             4.0                          4\n",
       "4   True             4.5                         64\n",
       "5   True             5.0                          2\n",
       "6   True             4.5                        188"
      ]
     },
     "execution_count": 15,
     "metadata": {},
     "output_type": "execute_result"
    }
   ],
   "source": [
    "audible_data.loc[audible_data['Rated'] == True, ['Rated', 'Stars (Max: 5)', 'Number Of Rating Response']].head()"
   ]
  },
  {
   "cell_type": "code",
   "execution_count": 16,
   "metadata": {
    "ExecuteTime": {
     "end_time": "2024-05-07T07:54:42.760768Z",
     "start_time": "2024-05-07T07:54:42.756069Z"
    }
   },
   "outputs": [
    {
     "data": {
      "text/html": [
       "<div>\n",
       "<style scoped>\n",
       "    .dataframe tbody tr th:only-of-type {\n",
       "        vertical-align: middle;\n",
       "    }\n",
       "\n",
       "    .dataframe tbody tr th {\n",
       "        vertical-align: top;\n",
       "    }\n",
       "\n",
       "    .dataframe thead th {\n",
       "        text-align: right;\n",
       "    }\n",
       "</style>\n",
       "<table border=\"1\" class=\"dataframe\">\n",
       "  <thead>\n",
       "    <tr style=\"text-align: right;\">\n",
       "      <th></th>\n",
       "      <th>Rated</th>\n",
       "      <th>Stars (Max: 5)</th>\n",
       "      <th>Number Of Rating Response</th>\n",
       "    </tr>\n",
       "  </thead>\n",
       "  <tbody>\n",
       "    <tr>\n",
       "      <th>1</th>\n",
       "      <td>False</td>\n",
       "      <td>&lt;NA&gt;</td>\n",
       "      <td>&lt;NA&gt;</td>\n",
       "    </tr>\n",
       "    <tr>\n",
       "      <th>3</th>\n",
       "      <td>False</td>\n",
       "      <td>&lt;NA&gt;</td>\n",
       "      <td>&lt;NA&gt;</td>\n",
       "    </tr>\n",
       "    <tr>\n",
       "      <th>11</th>\n",
       "      <td>False</td>\n",
       "      <td>&lt;NA&gt;</td>\n",
       "      <td>&lt;NA&gt;</td>\n",
       "    </tr>\n",
       "    <tr>\n",
       "      <th>20</th>\n",
       "      <td>False</td>\n",
       "      <td>&lt;NA&gt;</td>\n",
       "      <td>&lt;NA&gt;</td>\n",
       "    </tr>\n",
       "    <tr>\n",
       "      <th>22</th>\n",
       "      <td>False</td>\n",
       "      <td>&lt;NA&gt;</td>\n",
       "      <td>&lt;NA&gt;</td>\n",
       "    </tr>\n",
       "  </tbody>\n",
       "</table>\n",
       "</div>"
      ],
      "text/plain": [
       "    Rated  Stars (Max: 5)  Number Of Rating Response\n",
       "1   False            <NA>                       <NA>\n",
       "3   False            <NA>                       <NA>\n",
       "11  False            <NA>                       <NA>\n",
       "20  False            <NA>                       <NA>\n",
       "22  False            <NA>                       <NA>"
      ]
     },
     "execution_count": 16,
     "metadata": {},
     "output_type": "execute_result"
    }
   ],
   "source": [
    "audible_data.loc[audible_data['Rated'] == False, ['Rated', 'Stars (Max: 5)', 'Number Of Rating Response']].head()"
   ]
  },
  {
   "cell_type": "markdown",
   "metadata": {},
   "source": [
    "## Price Column Preprocess"
   ]
  },
  {
   "cell_type": "markdown",
   "metadata": {},
   "source": [
    "### Convert Price to Float"
   ]
  },
  {
   "cell_type": "code",
   "execution_count": 17,
   "metadata": {
    "ExecuteTime": {
     "end_time": "2024-05-07T07:54:42.788129Z",
     "start_time": "2024-05-07T07:54:42.761368Z"
    }
   },
   "outputs": [
    {
     "data": {
      "text/plain": [
       "Float64Dtype()"
      ]
     },
     "execution_count": 17,
     "metadata": {},
     "output_type": "execute_result"
    }
   ],
   "source": [
    "audible_data['Price'] = audible_data['Price'].replace('\"', '').str.replace('Free', '0').str.replace(',', '').str.strip().astype('Float64')\n",
    "audible_data['Price'].dtypes"
   ]
  },
  {
   "cell_type": "markdown",
   "metadata": {},
   "source": [
    "## Save Preprocessed Dataset"
   ]
  },
  {
   "cell_type": "code",
   "execution_count": 18,
   "metadata": {
    "ExecuteTime": {
     "end_time": "2024-05-07T07:54:43.177258Z",
     "start_time": "2024-05-07T07:54:42.788982Z"
    }
   },
   "outputs": [],
   "source": [
    "audible_data.to_csv(data_folder + '/audible.csv', index=False)"
   ]
  },
  {
   "cell_type": "markdown",
   "metadata": {},
   "source": [
    "# Data Exploration "
   ]
  },
  {
   "cell_type": "code",
   "execution_count": 19,
   "metadata": {
    "ExecuteTime": {
     "end_time": "2024-05-07T07:54:43.184205Z",
     "start_time": "2024-05-07T07:54:43.179612Z"
    }
   },
   "outputs": [
    {
     "data": {
      "text/html": [
       "<div>\n",
       "<style scoped>\n",
       "    .dataframe tbody tr th:only-of-type {\n",
       "        vertical-align: middle;\n",
       "    }\n",
       "\n",
       "    .dataframe tbody tr th {\n",
       "        vertical-align: top;\n",
       "    }\n",
       "\n",
       "    .dataframe thead th {\n",
       "        text-align: right;\n",
       "    }\n",
       "</style>\n",
       "<table border=\"1\" class=\"dataframe\">\n",
       "  <thead>\n",
       "    <tr style=\"text-align: right;\">\n",
       "      <th></th>\n",
       "      <th>Name</th>\n",
       "      <th>Author</th>\n",
       "      <th>Narrator</th>\n",
       "      <th>Time</th>\n",
       "      <th>Release Date</th>\n",
       "      <th>Language</th>\n",
       "      <th>Rated</th>\n",
       "      <th>Stars (Max: 5)</th>\n",
       "      <th>Number Of Rating Response</th>\n",
       "      <th>Price</th>\n",
       "    </tr>\n",
       "  </thead>\n",
       "  <tbody>\n",
       "    <tr>\n",
       "      <th>0</th>\n",
       "      <td>At Home</td>\n",
       "      <td>Bill Bryson</td>\n",
       "      <td>Bill Bryson</td>\n",
       "      <td>0 days 16:33:00</td>\n",
       "      <td>2010-10-05</td>\n",
       "      <td>English</td>\n",
       "      <td>True</td>\n",
       "      <td>4.5</td>\n",
       "      <td>6439</td>\n",
       "      <td>22.5</td>\n",
       "    </tr>\n",
       "    <tr>\n",
       "      <th>1</th>\n",
       "      <td>Preserved</td>\n",
       "      <td>Dean G. Lampros</td>\n",
       "      <td>Al Kessel</td>\n",
       "      <td>0 days 11:10:00</td>\n",
       "      <td>2024-03-26</td>\n",
       "      <td>English</td>\n",
       "      <td>False</td>\n",
       "      <td>&lt;NA&gt;</td>\n",
       "      <td>&lt;NA&gt;</td>\n",
       "      <td>21.49</td>\n",
       "    </tr>\n",
       "    <tr>\n",
       "      <th>2</th>\n",
       "      <td>Venice</td>\n",
       "      <td>Dennis Romano</td>\n",
       "      <td>David Colacci</td>\n",
       "      <td>1 days 06:45:00</td>\n",
       "      <td>2024-02-27</td>\n",
       "      <td>English</td>\n",
       "      <td>True</td>\n",
       "      <td>4.0</td>\n",
       "      <td>4</td>\n",
       "      <td>30.09</td>\n",
       "    </tr>\n",
       "    <tr>\n",
       "      <th>3</th>\n",
       "      <td>Elevating Construction Senior Superintendents,...</td>\n",
       "      <td>Jason Schroeder</td>\n",
       "      <td>Kate Schroeder</td>\n",
       "      <td>0 days 07:24:00</td>\n",
       "      <td>2024-03-08</td>\n",
       "      <td>English</td>\n",
       "      <td>False</td>\n",
       "      <td>&lt;NA&gt;</td>\n",
       "      <td>&lt;NA&gt;</td>\n",
       "      <td>14.99</td>\n",
       "    </tr>\n",
       "    <tr>\n",
       "      <th>4</th>\n",
       "      <td>Castles</td>\n",
       "      <td>Marc Morris</td>\n",
       "      <td>Derek Perkins</td>\n",
       "      <td>0 days 09:18:00</td>\n",
       "      <td>2017-04-04</td>\n",
       "      <td>English</td>\n",
       "      <td>True</td>\n",
       "      <td>4.5</td>\n",
       "      <td>64</td>\n",
       "      <td>15.47</td>\n",
       "    </tr>\n",
       "  </tbody>\n",
       "</table>\n",
       "</div>"
      ],
      "text/plain": [
       "                                                Name           Author  \\\n",
       "0                                            At Home      Bill Bryson   \n",
       "1                                          Preserved  Dean G. Lampros   \n",
       "2                                             Venice    Dennis Romano   \n",
       "3  Elevating Construction Senior Superintendents,...  Jason Schroeder   \n",
       "4                                            Castles      Marc Morris   \n",
       "\n",
       "         Narrator            Time Release Date Language  Rated  \\\n",
       "0     Bill Bryson 0 days 16:33:00   2010-10-05  English   True   \n",
       "1       Al Kessel 0 days 11:10:00   2024-03-26  English  False   \n",
       "2   David Colacci 1 days 06:45:00   2024-02-27  English   True   \n",
       "3  Kate Schroeder 0 days 07:24:00   2024-03-08  English  False   \n",
       "4   Derek Perkins 0 days 09:18:00   2017-04-04  English   True   \n",
       "\n",
       "   Stars (Max: 5)  Number Of Rating Response  Price  \n",
       "0             4.5                       6439   22.5  \n",
       "1            <NA>                       <NA>  21.49  \n",
       "2             4.0                          4  30.09  \n",
       "3            <NA>                       <NA>  14.99  \n",
       "4             4.5                         64  15.47  "
      ]
     },
     "execution_count": 19,
     "metadata": {},
     "output_type": "execute_result"
    }
   ],
   "source": [
    "audible_data.head()"
   ]
  },
  {
   "cell_type": "code",
   "execution_count": 20,
   "metadata": {
    "ExecuteTime": {
     "end_time": "2024-05-07T07:54:43.234860Z",
     "start_time": "2024-05-07T07:54:43.185020Z"
    }
   },
   "outputs": [
    {
     "data": {
      "text/html": [
       "<div>\n",
       "<style scoped>\n",
       "    .dataframe tbody tr th:only-of-type {\n",
       "        vertical-align: middle;\n",
       "    }\n",
       "\n",
       "    .dataframe tbody tr th {\n",
       "        vertical-align: top;\n",
       "    }\n",
       "\n",
       "    .dataframe thead th {\n",
       "        text-align: right;\n",
       "    }\n",
       "</style>\n",
       "<table border=\"1\" class=\"dataframe\">\n",
       "  <thead>\n",
       "    <tr style=\"text-align: right;\">\n",
       "      <th></th>\n",
       "      <th>Name</th>\n",
       "      <th>Author</th>\n",
       "      <th>Narrator</th>\n",
       "      <th>Time</th>\n",
       "      <th>Release Date</th>\n",
       "      <th>Language</th>\n",
       "      <th>Rated</th>\n",
       "      <th>Stars (Max: 5)</th>\n",
       "      <th>Number Of Rating Response</th>\n",
       "      <th>Price</th>\n",
       "    </tr>\n",
       "  </thead>\n",
       "  <tbody>\n",
       "    <tr>\n",
       "      <th>count</th>\n",
       "      <td>55235</td>\n",
       "      <td>55235</td>\n",
       "      <td>54749</td>\n",
       "      <td>55235</td>\n",
       "      <td>55235</td>\n",
       "      <td>55235</td>\n",
       "      <td>55235</td>\n",
       "      <td>46033.0</td>\n",
       "      <td>46033.0</td>\n",
       "      <td>55235.0</td>\n",
       "    </tr>\n",
       "    <tr>\n",
       "      <th>unique</th>\n",
       "      <td>52841</td>\n",
       "      <td>33933</td>\n",
       "      <td>19776</td>\n",
       "      <td>NaN</td>\n",
       "      <td>NaN</td>\n",
       "      <td>23</td>\n",
       "      <td>2</td>\n",
       "      <td>&lt;NA&gt;</td>\n",
       "      <td>&lt;NA&gt;</td>\n",
       "      <td>&lt;NA&gt;</td>\n",
       "    </tr>\n",
       "    <tr>\n",
       "      <th>top</th>\n",
       "      <td>The Odyssey</td>\n",
       "      <td>Barrett Williams</td>\n",
       "      <td>Virtual Voice</td>\n",
       "      <td>NaN</td>\n",
       "      <td>NaN</td>\n",
       "      <td>English</td>\n",
       "      <td>True</td>\n",
       "      <td>&lt;NA&gt;</td>\n",
       "      <td>&lt;NA&gt;</td>\n",
       "      <td>&lt;NA&gt;</td>\n",
       "    </tr>\n",
       "    <tr>\n",
       "      <th>freq</th>\n",
       "      <td>15</td>\n",
       "      <td>467</td>\n",
       "      <td>2823</td>\n",
       "      <td>NaN</td>\n",
       "      <td>NaN</td>\n",
       "      <td>52877</td>\n",
       "      <td>46033</td>\n",
       "      <td>&lt;NA&gt;</td>\n",
       "      <td>&lt;NA&gt;</td>\n",
       "      <td>&lt;NA&gt;</td>\n",
       "    </tr>\n",
       "    <tr>\n",
       "      <th>mean</th>\n",
       "      <td>NaN</td>\n",
       "      <td>NaN</td>\n",
       "      <td>NaN</td>\n",
       "      <td>0 days 08:07:04.704625690</td>\n",
       "      <td>2019-05-07 11:56:53.075042816</td>\n",
       "      <td>NaN</td>\n",
       "      <td>NaN</td>\n",
       "      <td>4.494862</td>\n",
       "      <td>848.85606</td>\n",
       "      <td>15.906506</td>\n",
       "    </tr>\n",
       "    <tr>\n",
       "      <th>min</th>\n",
       "      <td>NaN</td>\n",
       "      <td>NaN</td>\n",
       "      <td>NaN</td>\n",
       "      <td>0 days 00:00:00</td>\n",
       "      <td>1998-12-27 00:00:00</td>\n",
       "      <td>NaN</td>\n",
       "      <td>NaN</td>\n",
       "      <td>1.0</td>\n",
       "      <td>1.0</td>\n",
       "      <td>0.0</td>\n",
       "    </tr>\n",
       "    <tr>\n",
       "      <th>25%</th>\n",
       "      <td>NaN</td>\n",
       "      <td>NaN</td>\n",
       "      <td>NaN</td>\n",
       "      <td>0 days 03:38:00</td>\n",
       "      <td>2016-11-22 00:00:00</td>\n",
       "      <td>NaN</td>\n",
       "      <td>NaN</td>\n",
       "      <td>4.5</td>\n",
       "      <td>9.0</td>\n",
       "      <td>13.13</td>\n",
       "    </tr>\n",
       "    <tr>\n",
       "      <th>50%</th>\n",
       "      <td>NaN</td>\n",
       "      <td>NaN</td>\n",
       "      <td>NaN</td>\n",
       "      <td>0 days 07:13:00</td>\n",
       "      <td>2020-07-09 00:00:00</td>\n",
       "      <td>NaN</td>\n",
       "      <td>NaN</td>\n",
       "      <td>4.5</td>\n",
       "      <td>45.0</td>\n",
       "      <td>17.19</td>\n",
       "    </tr>\n",
       "    <tr>\n",
       "      <th>75%</th>\n",
       "      <td>NaN</td>\n",
       "      <td>NaN</td>\n",
       "      <td>NaN</td>\n",
       "      <td>0 days 10:40:00</td>\n",
       "      <td>2023-04-27 00:00:00</td>\n",
       "      <td>NaN</td>\n",
       "      <td>NaN</td>\n",
       "      <td>5.0</td>\n",
       "      <td>223.0</td>\n",
       "      <td>21.49</td>\n",
       "    </tr>\n",
       "    <tr>\n",
       "      <th>max</th>\n",
       "      <td>NaN</td>\n",
       "      <td>NaN</td>\n",
       "      <td>NaN</td>\n",
       "      <td>11 days 00:38:00</td>\n",
       "      <td>2026-01-01 00:00:00</td>\n",
       "      <td>NaN</td>\n",
       "      <td>NaN</td>\n",
       "      <td>5.0</td>\n",
       "      <td>294813.0</td>\n",
       "      <td>163.62</td>\n",
       "    </tr>\n",
       "    <tr>\n",
       "      <th>std</th>\n",
       "      <td>NaN</td>\n",
       "      <td>NaN</td>\n",
       "      <td>NaN</td>\n",
       "      <td>0 days 07:20:29.029875614</td>\n",
       "      <td>NaN</td>\n",
       "      <td>NaN</td>\n",
       "      <td>NaN</td>\n",
       "      <td>0.500272</td>\n",
       "      <td>5051.103308</td>\n",
       "      <td>9.748057</td>\n",
       "    </tr>\n",
       "  </tbody>\n",
       "</table>\n",
       "</div>"
      ],
      "text/plain": [
       "               Name            Author       Narrator  \\\n",
       "count         55235             55235          54749   \n",
       "unique        52841             33933          19776   \n",
       "top     The Odyssey  Barrett Williams  Virtual Voice   \n",
       "freq             15               467           2823   \n",
       "mean            NaN               NaN            NaN   \n",
       "min             NaN               NaN            NaN   \n",
       "25%             NaN               NaN            NaN   \n",
       "50%             NaN               NaN            NaN   \n",
       "75%             NaN               NaN            NaN   \n",
       "max             NaN               NaN            NaN   \n",
       "std             NaN               NaN            NaN   \n",
       "\n",
       "                             Time                   Release Date Language  \\\n",
       "count                       55235                          55235    55235   \n",
       "unique                        NaN                            NaN       23   \n",
       "top                           NaN                            NaN  English   \n",
       "freq                          NaN                            NaN    52877   \n",
       "mean    0 days 08:07:04.704625690  2019-05-07 11:56:53.075042816      NaN   \n",
       "min               0 days 00:00:00            1998-12-27 00:00:00      NaN   \n",
       "25%               0 days 03:38:00            2016-11-22 00:00:00      NaN   \n",
       "50%               0 days 07:13:00            2020-07-09 00:00:00      NaN   \n",
       "75%               0 days 10:40:00            2023-04-27 00:00:00      NaN   \n",
       "max              11 days 00:38:00            2026-01-01 00:00:00      NaN   \n",
       "std     0 days 07:20:29.029875614                            NaN      NaN   \n",
       "\n",
       "        Rated  Stars (Max: 5)  Number Of Rating Response      Price  \n",
       "count   55235         46033.0                    46033.0    55235.0  \n",
       "unique      2            <NA>                       <NA>       <NA>  \n",
       "top      True            <NA>                       <NA>       <NA>  \n",
       "freq    46033            <NA>                       <NA>       <NA>  \n",
       "mean      NaN        4.494862                  848.85606  15.906506  \n",
       "min       NaN             1.0                        1.0        0.0  \n",
       "25%       NaN             4.5                        9.0      13.13  \n",
       "50%       NaN             4.5                       45.0      17.19  \n",
       "75%       NaN             5.0                      223.0      21.49  \n",
       "max       NaN             5.0                   294813.0     163.62  \n",
       "std       NaN        0.500272                5051.103308   9.748057  "
      ]
     },
     "execution_count": 20,
     "metadata": {},
     "output_type": "execute_result"
    }
   ],
   "source": [
    "audible_data.describe(include='all')"
   ]
  },
  {
   "cell_type": "code",
   "execution_count": 21,
   "metadata": {
    "ExecuteTime": {
     "end_time": "2024-05-07T07:54:43.238415Z",
     "start_time": "2024-05-07T07:54:43.235656Z"
    }
   },
   "outputs": [
    {
     "data": {
      "text/plain": [
       "Name                                  object\n",
       "Author                                object\n",
       "Narrator                              object\n",
       "Time                         timedelta64[ns]\n",
       "Release Date                  datetime64[ns]\n",
       "Language                              object\n",
       "Rated                                   bool\n",
       "Stars (Max: 5)                       Float64\n",
       "Number Of Rating Response              Int64\n",
       "Price                                Float64\n",
       "dtype: object"
      ]
     },
     "execution_count": 21,
     "metadata": {},
     "output_type": "execute_result"
    }
   ],
   "source": [
    "audible_data.dtypes"
   ]
  },
  {
   "cell_type": "markdown",
   "metadata": {},
   "source": [
    "## Dataset Characteristics"
   ]
  },
  {
   "cell_type": "markdown",
   "metadata": {},
   "source": [
    "### Features and Entries"
   ]
  },
  {
   "cell_type": "code",
   "execution_count": 22,
   "metadata": {
    "ExecuteTime": {
     "end_time": "2024-05-07T07:54:43.241418Z",
     "start_time": "2024-05-07T07:54:43.239108Z"
    }
   },
   "outputs": [
    {
     "data": {
      "text/plain": [
       "(55235, 10)"
      ]
     },
     "execution_count": 22,
     "metadata": {},
     "output_type": "execute_result"
    }
   ],
   "source": [
    "audible_data.shape"
   ]
  },
  {
   "cell_type": "markdown",
   "metadata": {},
   "source": [
    "### Rated vs. Not Rated"
   ]
  },
  {
   "cell_type": "code",
   "execution_count": 23,
   "metadata": {
    "ExecuteTime": {
     "end_time": "2024-05-07T07:54:43.245024Z",
     "start_time": "2024-05-07T07:54:43.242306Z"
    }
   },
   "outputs": [
    {
     "data": {
      "text/plain": [
       "(46033, 9202)"
      ]
     },
     "execution_count": 23,
     "metadata": {},
     "output_type": "execute_result"
    }
   ],
   "source": [
    "(audible_data['Rated'].sum(), (~audible_data['Rated']).sum())"
   ]
  },
  {
   "cell_type": "markdown",
   "metadata": {},
   "source": [
    "### Audiobook Lengths"
   ]
  },
  {
   "cell_type": "code",
   "execution_count": 24,
   "metadata": {
    "ExecuteTime": {
     "end_time": "2024-05-07T07:54:43.379318Z",
     "start_time": "2024-05-07T07:54:43.245666Z"
    }
   },
   "outputs": [
    {
     "data": {
      "image/png": "[encoded data removed]",
      "text/plain": [
       "<Figure size 640x480 with 1 Axes>"
      ]
     },
     "metadata": {},
     "output_type": "display_data"
    }
   ],
   "source": [
    "sns.boxplot(x=audible_data['Time'].dt.total_seconds() / 60)\n",
    "plt.draw()"
   ]
  },
  {
   "cell_type": "markdown",
   "metadata": {},
   "source": [
    "### Audiobook Ratings"
   ]
  },
  {
   "cell_type": "code",
   "execution_count": 25,
   "metadata": {
    "ExecuteTime": {
     "end_time": "2024-05-07T07:54:43.504272Z",
     "start_time": "2024-05-07T07:54:43.381483Z"
    }
   },
   "outputs": [
    {
     "data": {
      "image/png": "[encoded data removed]",
      "text/plain": [
       "<Figure size 640x480 with 1 Axes>"
      ]
     },
     "metadata": {},
     "output_type": "display_data"
    }
   ],
   "source": [
    "rated_audible_data = audible_data[audible_data['Rated'] == True]\n",
    "sns.boxplot(x=rated_audible_data['Stars (Max: 5)'])\n",
    "plt.draw()"
   ]
  },
  {
   "cell_type": "markdown",
   "metadata": {},
   "source": [
    "### Audiobook Prices"
   ]
  },
  {
   "cell_type": "code",
   "execution_count": 26,
   "metadata": {
    "ExecuteTime": {
     "end_time": "2024-05-07T07:54:43.709313Z",
     "start_time": "2024-05-07T07:54:43.505208Z"
    }
   },
   "outputs": [
    {
     "data": {
      "image/png": "[encoded data removed]",
      "text/plain": [
       "<Figure size 640x480 with 1 Axes>"
      ]
     },
     "metadata": {},
     "output_type": "display_data"
    }
   ],
   "source": [
    "sns.boxplot(x=audible_data['Price'])\n",
    "plt.draw()"
   ]
  },
  {
   "cell_type": "markdown",
   "metadata": {},
   "source": [
    "### Conclusion"
   ]
  },
  {
   "cell_type": "markdown",
   "metadata": {},
   "source": [
    "* The dataset consists of 55235 entries and 10 features, with 46033 entries rated and 9202 not.  \n",
    "* The plot for Audiobook Lengths is skewed right, having most audiobooks under 2000 minutes. Several outliers indicate that some audiobooks lengths fall into the range of 2000 to 6000, with a few longer than 6000 minutes.\n",
    "* The plot for Audiobook Ratings is heavily skewed left with few outliers.  \n",
    "* The plot for Audiobook Prices is skewed right, having most audiobook prices under 40. Several outliers indicate that some audiobook prices fall into the range of 40 to 70, with a few higher than 70."
   ]
  },
  {
   "cell_type": "markdown",
   "metadata": {},
   "source": [
    "## Audiobook Lengths vs. Ratings"
   ]
  },
  {
   "cell_type": "markdown",
   "metadata": {},
   "source": [
    "Null Hypothesis: There is no correlation between the length of audiobooks and their ratings.  \n",
    "Alternative Hypothesis: There is a correlation between the length of audiobooks and their ratings."
   ]
  },
  {
   "cell_type": "code",
   "execution_count": 27,
   "metadata": {
    "ExecuteTime": {
     "end_time": "2024-05-07T07:54:43.878675Z",
     "start_time": "2024-05-07T07:54:43.712397Z"
    }
   },
   "outputs": [
    {
     "data": {
      "image/png": "[encoded data removed]",
      "text/plain": [
       "<Figure size 640x480 with 1 Axes>"
      ]
     },
     "metadata": {},
     "output_type": "display_data"
    }
   ],
   "source": [
    "time_in_minutes = rated_audible_data['Time'].dt.total_seconds() / 60\n",
    "sns.scatterplot(x=time_in_minutes, y=rated_audible_data['Stars (Max: 5)'])\n",
    "plt.draw()"
   ]
  },
  {
   "cell_type": "markdown",
   "metadata": {},
   "source": [
    "### T Test"
   ]
  },
  {
   "cell_type": "code",
   "execution_count": 28,
   "metadata": {
    "ExecuteTime": {
     "end_time": "2024-05-07T07:54:43.887910Z",
     "start_time": "2024-05-07T07:54:43.879595Z"
    }
   },
   "outputs": [
    {
     "data": {
      "text/plain": [
       "1.0504911870116632e-27"
      ]
     },
     "execution_count": 28,
     "metadata": {},
     "output_type": "execute_result"
    }
   ],
   "source": [
    "time_in_minutes_median = time_in_minutes.median()\n",
    "_, p_value = ttest_ind(\n",
    "    rated_audible_data[time_in_minutes < time_in_minutes_median]['Stars (Max: 5)'],\n",
    "    rated_audible_data[time_in_minutes >= time_in_minutes_median]['Stars (Max: 5)'],\n",
    "    equal_var=False\n",
    ")\n",
    "p_value"
   ]
  },
  {
   "cell_type": "markdown",
   "metadata": {},
   "source": [
    "### Conclusion"
   ]
  },
  {
   "cell_type": "markdown",
   "metadata": {},
   "source": [
    "Suppose the significance level (alpha) is 0.05, and the p-value is 1.050e-27, which is less than alpha.  \n",
    "Therefore, we reject the null hypothesis. That is, there is a correlation between the length of audiobooks and their ratings."
   ]
  },
  {
   "cell_type": "markdown",
   "metadata": {},
   "source": [
    "## Audiobook Ratings vs. Prices"
   ]
  },
  {
   "cell_type": "markdown",
   "metadata": {},
   "source": [
    "Null Hypothesis: There is no correlation between the rating of audiobooks and their prices.  \n",
    "Alternative Hypothesis: There is a correlation between the rating of audiobooks and their prices."
   ]
  },
  {
   "cell_type": "code",
   "execution_count": 29,
   "metadata": {
    "ExecuteTime": {
     "end_time": "2024-05-07T07:54:44.037809Z",
     "start_time": "2024-05-07T07:54:43.888611Z"
    }
   },
   "outputs": [
    {
     "data": {
      "image/png": "[encoded data removed]",
      "text/plain": [
       "<Figure size 640x480 with 1 Axes>"
      ]
     },
     "metadata": {},
     "output_type": "display_data"
    }
   ],
   "source": [
    "sns.scatterplot(x=rated_audible_data['Stars (Max: 5)'], y=rated_audible_data['Price'])\n",
    "plt.draw()"
   ]
  },
  {
   "cell_type": "markdown",
   "metadata": {},
   "source": [
    "### T Test"
   ]
  },
  {
   "cell_type": "code",
   "execution_count": 30,
   "metadata": {
    "ExecuteTime": {
     "end_time": "2024-05-07T07:54:44.048634Z",
     "start_time": "2024-05-07T07:54:44.038910Z"
    }
   },
   "outputs": [
    {
     "data": {
      "text/plain": [
       "5.5395985712783675e-171"
      ]
     },
     "execution_count": 30,
     "metadata": {},
     "output_type": "execute_result"
    }
   ],
   "source": [
    "rating_mean = rated_audible_data['Stars (Max: 5)'].mean()\n",
    "_, p_value = ttest_ind(\n",
    "    rated_audible_data[rated_audible_data['Stars (Max: 5)'] < rating_mean]['Price'],\n",
    "    rated_audible_data[rated_audible_data['Stars (Max: 5)'] >= rating_mean]['Price'],\n",
    "    equal_var=False\n",
    ")\n",
    "p_value"
   ]
  },
  {
   "cell_type": "markdown",
   "metadata": {},
   "source": [
    "### Conclusion"
   ]
  },
  {
   "cell_type": "markdown",
   "metadata": {},
   "source": [
    "Suppose the significance level (alpha) is 0.05, and the p-value is 5.540e-171, which is less than alpha.  \n",
    "Therefore, we reject the null hypothesis. That is, there is a correlation between the rating of audiobooks and their prices."
   ]
  }
 ],
 "metadata": {
  "kernelspec": {
   "display_name": "Python 3",
   "language": "python",
   "name": "python3"
  },
  "language_info": {
   "codemirror_mode": {
    "name": "ipython",
    "version": 3
   },
   "file_extension": ".py",
   "mimetype": "text/x-python",
   "name": "python",
   "nbconvert_exporter": "python",
   "pygments_lexer": "ipython3",
   "version": "3.12.3"
  }
 },
 "nbformat": 4,
 "nbformat_minor": 2
}
